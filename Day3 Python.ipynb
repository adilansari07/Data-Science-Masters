{
 "cells": [
  {
   "cell_type": "code",
   "execution_count": 1,
   "id": "22736936-dafc-4426-bf2e-90e6609ac22e",
   "metadata": {},
   "outputs": [],
   "source": [
    "name=\"Data Science masters\""
   ]
  },
  {
   "cell_type": "code",
   "execution_count": 2,
   "id": "27090d7d-b17e-4f38-a177-312787335194",
   "metadata": {},
   "outputs": [
    {
     "data": {
      "text/plain": [
       "'Data Science masters'"
      ]
     },
     "execution_count": 2,
     "metadata": {},
     "output_type": "execute_result"
    }
   ],
   "source": [
    "name"
   ]
  },
  {
   "cell_type": "code",
   "execution_count": 4,
   "id": "86a86168-aea1-4fb8-966e-390ef1340b50",
   "metadata": {},
   "outputs": [
    {
     "data": {
      "text/plain": [
       "'dATA sCIENCE MASTERS'"
      ]
     },
     "execution_count": 4,
     "metadata": {},
     "output_type": "execute_result"
    }
   ],
   "source": [
    "name.swapcase()"
   ]
  },
  {
   "cell_type": "code",
   "execution_count": 5,
   "id": "93dbb3e4-e966-46a8-90c8-d56ab27d0005",
   "metadata": {},
   "outputs": [
    {
     "data": {
      "text/plain": [
       "'Data Science Masters'"
      ]
     },
     "execution_count": 5,
     "metadata": {},
     "output_type": "execute_result"
    }
   ],
   "source": [
    "name.title()"
   ]
  },
  {
   "cell_type": "code",
   "execution_count": 7,
   "id": "4c5c05a9-9da0-400f-acf9-d7e172898f46",
   "metadata": {},
   "outputs": [
    {
     "data": {
      "text/plain": [
       "'Data science masters'"
      ]
     },
     "execution_count": 7,
     "metadata": {},
     "output_type": "execute_result"
    }
   ],
   "source": [
    "name.capitalize()"
   ]
  },
  {
   "cell_type": "markdown",
   "id": "750c927f-d449-4930-a262-9c2d847b763f",
   "metadata": {},
   "source": [
    "## Reversing a string"
   ]
  },
  {
   "cell_type": "code",
   "execution_count": 8,
   "id": "90ae8147-9bea-4bd8-9ed8-d91f6c08a88a",
   "metadata": {},
   "outputs": [
    {
     "data": {
      "text/plain": [
       "'sretsam ecneicS ataD'"
      ]
     },
     "execution_count": 8,
     "metadata": {},
     "output_type": "execute_result"
    }
   ],
   "source": [
    "name[::-1]"
   ]
  },
  {
   "cell_type": "code",
   "execution_count": 9,
   "id": "39e76418-c981-41a3-8791-5de9062cd9c2",
   "metadata": {},
   "outputs": [
    {
     "data": {
      "text/plain": [
       "<reversed at 0x7acc28e38b50>"
      ]
     },
     "execution_count": 9,
     "metadata": {},
     "output_type": "execute_result"
    }
   ],
   "source": [
    "reversed(name)"
   ]
  },
  {
   "cell_type": "code",
   "execution_count": 13,
   "id": "cb3a5652-df9f-4bba-99dd-685f587417b5",
   "metadata": {},
   "outputs": [
    {
     "data": {
      "text/plain": [
       "'s r e t s a m   e c n e i c S   a t a D'"
      ]
     },
     "execution_count": 13,
     "metadata": {},
     "output_type": "execute_result"
    }
   ],
   "source": [
    "' '.join(reversed(name))"
   ]
  },
  {
   "cell_type": "code",
   "execution_count": 14,
   "id": "dea26216-cc8b-49d6-a749-a4d4339e49a6",
   "metadata": {},
   "outputs": [
    {
     "data": {
      "text/plain": [
       "'MAdiloAdilhAdild'"
      ]
     },
     "execution_count": 14,
     "metadata": {},
     "output_type": "execute_result"
    }
   ],
   "source": [
    "\"Adil\".join(\"Mohd\")"
   ]
  },
  {
   "cell_type": "code",
   "execution_count": 15,
   "id": "43c2d94a-7582-4a61-8834-62ebb0df1824",
   "metadata": {},
   "outputs": [
    {
     "data": {
      "text/plain": [
       "'A n t'"
      ]
     },
     "execution_count": 15,
     "metadata": {},
     "output_type": "execute_result"
    }
   ],
   "source": [
    "\" \".join(\"Ant\")"
   ]
  },
  {
   "cell_type": "code",
   "execution_count": 18,
   "id": "a6e02203-3cba-4ee2-82e1-b28fe2b7ff4a",
   "metadata": {},
   "outputs": [
    {
     "data": {
      "text/plain": [
       "'t n a'"
      ]
     },
     "execution_count": 18,
     "metadata": {},
     "output_type": "execute_result"
    }
   ],
   "source": [
    "\" \".join(reversed(\"ant\"))"
   ]
  },
  {
   "cell_type": "code",
   "execution_count": 19,
   "id": "4e34c4c7-c64e-44d2-ad3a-7b5afabd3236",
   "metadata": {},
   "outputs": [
    {
     "data": {
      "text/plain": [
       "'t ADIL n ADIL a'"
      ]
     },
     "execution_count": 19,
     "metadata": {},
     "output_type": "execute_result"
    }
   ],
   "source": [
    "\" ADIL \".join(reversed(\"ant\"))"
   ]
  },
  {
   "cell_type": "code",
   "execution_count": 21,
   "id": "497488cf-602e-4a67-996e-701fb5d78b08",
   "metadata": {},
   "outputs": [
    {
     "data": {
      "text/plain": [
       "['t', 'n', 'a']"
      ]
     },
     "execution_count": 21,
     "metadata": {},
     "output_type": "execute_result"
    }
   ],
   "source": [
    "list(reversed(\"ant\"))"
   ]
  },
  {
   "cell_type": "code",
   "execution_count": 22,
   "id": "3754fe8c-a62f-4d33-8ead-081ed0b63538",
   "metadata": {},
   "outputs": [],
   "source": [
    "str1=\"PW is a good company\""
   ]
  },
  {
   "cell_type": "code",
   "execution_count": 23,
   "id": "f5a13b1b-f626-4bf5-804a-8ea717f80574",
   "metadata": {},
   "outputs": [
    {
     "data": {
      "text/plain": [
       "'PskillWskill skilliskillsskill skillaskill skillgskilloskilloskilldskill skillcskilloskillmskillpskillaskillnskilly'"
      ]
     },
     "execution_count": 23,
     "metadata": {},
     "output_type": "execute_result"
    }
   ],
   "source": [
    "\"skill\".join(str1)"
   ]
  },
  {
   "cell_type": "markdown",
   "id": "17193e89-9245-427e-89fe-28c297392b85",
   "metadata": {},
   "source": [
    "## Removing character from the end of the string"
   ]
  },
  {
   "cell_type": "code",
   "execution_count": 24,
   "id": "b4212f2e-6666-4c27-a508-e4d5cd3aa8bb",
   "metadata": {},
   "outputs": [],
   "source": [
    "string_a=\" pwskill \""
   ]
  },
  {
   "cell_type": "code",
   "execution_count": 26,
   "id": "b7c7b194-a3a3-42ad-afb1-2eeaf11c6a48",
   "metadata": {},
   "outputs": [
    {
     "data": {
      "text/plain": [
       "'pwskill'"
      ]
     },
     "execution_count": 26,
     "metadata": {},
     "output_type": "execute_result"
    }
   ],
   "source": [
    "string_a.strip(\" \")  # space is remove"
   ]
  },
  {
   "cell_type": "code",
   "execution_count": 27,
   "id": "33973fe6-2d37-42bf-a422-97328550dddb",
   "metadata": {},
   "outputs": [
    {
     "data": {
      "text/plain": [
       "'pwskill '"
      ]
     },
     "execution_count": 27,
     "metadata": {},
     "output_type": "execute_result"
    }
   ],
   "source": [
    "string_a.lstrip(\" \")"
   ]
  },
  {
   "cell_type": "code",
   "execution_count": 28,
   "id": "7ca2ad39-e8ff-47fe-ae68-7b4a2ba5c91e",
   "metadata": {},
   "outputs": [
    {
     "data": {
      "text/plain": [
       "' pwskill'"
      ]
     },
     "execution_count": 28,
     "metadata": {},
     "output_type": "execute_result"
    }
   ],
   "source": [
    "string_a.rstrip(\" \")"
   ]
  },
  {
   "cell_type": "code",
   "execution_count": 29,
   "id": "825aba9f-b90a-4a20-8368-4af675b3f6a3",
   "metadata": {},
   "outputs": [
    {
     "data": {
      "text/plain": [
       "' pwskill '"
      ]
     },
     "execution_count": 29,
     "metadata": {},
     "output_type": "execute_result"
    }
   ],
   "source": [
    "string_a.strip(\"s\")"
   ]
  },
  {
   "cell_type": "code",
   "execution_count": 30,
   "id": "d669e3fb-fd3d-4df8-b8f9-9e865afac6c6",
   "metadata": {},
   "outputs": [],
   "source": [
    "string_z=\"Greeting to Pwskill\""
   ]
  },
  {
   "cell_type": "code",
   "execution_count": 31,
   "id": "b572616f-4877-4ed2-b103-10169ec0b28f",
   "metadata": {},
   "outputs": [
    {
     "data": {
      "text/plain": [
       "'Greeting from Pwskill'"
      ]
     },
     "execution_count": 31,
     "metadata": {},
     "output_type": "execute_result"
    }
   ],
   "source": [
    "string_z.replace(\"to\",\"from\")"
   ]
  },
  {
   "cell_type": "code",
   "execution_count": 32,
   "id": "be27302c-9d4e-4011-9afb-5e073cb2671e",
   "metadata": {},
   "outputs": [],
   "source": [
    "str1=\"Welcome to Pwskills welcome to Dat cience Masters\""
   ]
  },
  {
   "cell_type": "code",
   "execution_count": 33,
   "id": "d135d950-1d40-4b4f-a4e0-8fb7478d6b90",
   "metadata": {},
   "outputs": [
    {
     "data": {
      "text/plain": [
       "'Welcome to Pwskills welcome to Data Science Masters'"
      ]
     },
     "execution_count": 33,
     "metadata": {},
     "output_type": "execute_result"
    }
   ],
   "source": [
    "str1.replace(\"Dat\",\"Data\").replace(\"cience\",\"Science\")"
   ]
  },
  {
   "cell_type": "code",
   "execution_count": 34,
   "id": "0ba50fae-c7c2-4910-9a7a-2a7fb4e71cff",
   "metadata": {},
   "outputs": [
    {
     "data": {
      "text/plain": [
       "False"
      ]
     },
     "execution_count": 34,
     "metadata": {},
     "output_type": "execute_result"
    }
   ],
   "source": [
    "str1.isupper()"
   ]
  },
  {
   "cell_type": "code",
   "execution_count": 35,
   "id": "832e11ed-d33e-4ec2-9fc3-f879121cc955",
   "metadata": {},
   "outputs": [
    {
     "data": {
      "text/plain": [
       "False"
      ]
     },
     "execution_count": 35,
     "metadata": {},
     "output_type": "execute_result"
    }
   ],
   "source": [
    "str1.islower()"
   ]
  },
  {
   "cell_type": "code",
   "execution_count": 36,
   "id": "33b55ab8-774d-4f05-8575-08143e8073b0",
   "metadata": {},
   "outputs": [
    {
     "data": {
      "text/plain": [
       "False"
      ]
     },
     "execution_count": 36,
     "metadata": {},
     "output_type": "execute_result"
    }
   ],
   "source": [
    "str1.isspace()"
   ]
  },
  {
   "cell_type": "code",
   "execution_count": 37,
   "id": "f6bca325-80f2-441c-8dc0-5f28830256f4",
   "metadata": {},
   "outputs": [
    {
     "data": {
      "text/plain": [
       "True"
      ]
     },
     "execution_count": 37,
     "metadata": {},
     "output_type": "execute_result"
    }
   ],
   "source": [
    "' '.isspace()"
   ]
  },
  {
   "cell_type": "code",
   "execution_count": 38,
   "id": "a8ca3201-7bbd-46cf-810e-3dc2f7cf4083",
   "metadata": {},
   "outputs": [],
   "source": [
    "str2=\"Adil\""
   ]
  },
  {
   "cell_type": "code",
   "execution_count": 40,
   "id": "ae28d00d-c4c9-4c27-9590-bdf80864e4bd",
   "metadata": {},
   "outputs": [
    {
     "data": {
      "text/plain": [
       "False"
      ]
     },
     "execution_count": 40,
     "metadata": {},
     "output_type": "execute_result"
    }
   ],
   "source": [
    "str2.endswith('l')"
   ]
  },
  {
   "cell_type": "code",
   "execution_count": 42,
   "id": "7ae087ab-50d3-47a6-8783-51752445098c",
   "metadata": {},
   "outputs": [
    {
     "data": {
      "text/plain": [
       "False"
      ]
     },
     "execution_count": 42,
     "metadata": {},
     "output_type": "execute_result"
    }
   ],
   "source": [
    "str2.startswith(\"A\")"
   ]
  },
  {
   "cell_type": "code",
   "execution_count": 43,
   "id": "3dd6b09c-67b8-4ac3-8fc1-a9063f935e02",
   "metadata": {},
   "outputs": [
    {
     "data": {
      "text/plain": [
       "True"
      ]
     },
     "execution_count": 43,
     "metadata": {},
     "output_type": "execute_result"
    }
   ],
   "source": [
    "a=\"abcd1234\"\n",
    "a.isalnum()"
   ]
  },
  {
   "cell_type": "code",
   "execution_count": 44,
   "id": "ce0321c3-c549-4603-9266-68ea95828e96",
   "metadata": {},
   "outputs": [
    {
     "data": {
      "text/plain": [
       "False"
      ]
     },
     "execution_count": 44,
     "metadata": {},
     "output_type": "execute_result"
    }
   ],
   "source": [
    "a.isnumeric()"
   ]
  },
  {
   "cell_type": "code",
   "execution_count": 45,
   "id": "ed40769c-b2b1-495c-8aaa-6525d47f0d52",
   "metadata": {},
   "outputs": [
    {
     "name": "stdout",
     "output_type": "stream",
     "text": [
      "8\n"
     ]
    }
   ],
   "source": [
    "count=0\n",
    "for i in a:\n",
    "    count+=1\n",
    "print(count)"
   ]
  },
  {
   "cell_type": "code",
   "execution_count": 46,
   "id": "320106df-7689-4b99-8cd7-86824b18250c",
   "metadata": {},
   "outputs": [
    {
     "data": {
      "text/plain": [
       "8"
      ]
     },
     "execution_count": 46,
     "metadata": {},
     "output_type": "execute_result"
    }
   ],
   "source": [
    "len(a)"
   ]
  },
  {
   "cell_type": "code",
   "execution_count": 48,
   "id": "510ac4c4-eacf-4480-b875-53796a341c74",
   "metadata": {},
   "outputs": [
    {
     "name": "stdout",
     "output_type": "stream",
     "text": [
      "a b c d 1 2 3 4 "
     ]
    }
   ],
   "source": [
    "for i in a:\n",
    "    print(i,end=\" \")"
   ]
  },
  {
   "cell_type": "code",
   "execution_count": 49,
   "id": "5af4b37c-2624-49cb-8ac3-f5d2fdd67d2a",
   "metadata": {},
   "outputs": [
    {
     "data": {
      "text/plain": [
       "range(0, 8)"
      ]
     },
     "execution_count": 49,
     "metadata": {},
     "output_type": "execute_result"
    }
   ],
   "source": [
    "range(len(a))"
   ]
  },
  {
   "cell_type": "code",
   "execution_count": 51,
   "id": "2e0ffa8f-15ee-4b87-8689-daf2732d0e9c",
   "metadata": {},
   "outputs": [
    {
     "name": "stdout",
     "output_type": "stream",
     "text": [
      "0 = a\n",
      "1 = b\n",
      "2 = c\n",
      "3 = d\n",
      "4 = 1\n",
      "5 = 2\n",
      "6 = 3\n",
      "7 = 4\n"
     ]
    }
   ],
   "source": [
    "for i in range(len(a)):\n",
    "    print(i,'=',a[i])"
   ]
  },
  {
   "cell_type": "code",
   "execution_count": 53,
   "id": "9b1d0cd3-e824-40c2-8951-b70d7e5a2212",
   "metadata": {},
   "outputs": [
    {
     "name": "stdout",
     "output_type": "stream",
     "text": [
      "4\n",
      "3\n",
      "2\n",
      "1\n",
      "d\n",
      "c\n",
      "b\n",
      "a\n"
     ]
    }
   ],
   "source": [
    "for i in range(len(a)-1,-1,-1):\n",
    "    print(a[i])"
   ]
  },
  {
   "cell_type": "code",
   "execution_count": 35,
   "id": "016d1ff0-4d88-49d7-a04d-6b7efe69dff9",
   "metadata": {},
   "outputs": [
    {
     "name": "stdout",
     "output_type": "stream",
     "text": [
      "s\n",
      "l\n",
      "l\n",
      "i\n",
      "k\n",
      "s\n",
      "w\n",
      "p\n"
     ]
    }
   ],
   "source": [
    "str3=\"pwskills\"\n",
    "ch=len(str3)-1\n",
    "while ch>=0:\n",
    "    print(str3[ch])\n",
    "    ch-=1"
   ]
  },
  {
   "cell_type": "code",
   "execution_count": 58,
   "id": "90206ea6-744f-4332-8161-459953588653",
   "metadata": {},
   "outputs": [],
   "source": [
    "name=\"adil\"\n",
    "vowel=\"AaEeIiOoUu\""
   ]
  },
  {
   "cell_type": "code",
   "execution_count": 59,
   "id": "3ea7fde2-91a1-40ec-b9b4-35748e9378b3",
   "metadata": {},
   "outputs": [
    {
     "name": "stdout",
     "output_type": "stream",
     "text": [
      "a is a vowel\n",
      "d is not a vowel\n",
      "i is a vowel\n",
      "l is not a vowel\n"
     ]
    }
   ],
   "source": [
    "for ch in name:\n",
    "    if ch in vowel:\n",
    "        print(f\"{ch} is a vowel\")\n",
    "    else:\n",
    "        print(f\"{ch} is not a vowel\")"
   ]
  },
  {
   "cell_type": "markdown",
   "id": "adffdfe9-7f5c-4e86-a288-9179a901274c",
   "metadata": {},
   "source": [
    "## List"
   ]
  },
  {
   "cell_type": "code",
   "execution_count": 60,
   "id": "b248568a-53bb-49fb-97e5-0ee9af15cd84",
   "metadata": {},
   "outputs": [
    {
     "data": {
      "text/plain": [
       "list"
      ]
     },
     "execution_count": 60,
     "metadata": {},
     "output_type": "execute_result"
    }
   ],
   "source": [
    "type([])"
   ]
  },
  {
   "cell_type": "code",
   "execution_count": 61,
   "id": "54113c31-1b44-41b4-98b5-056c4b293ad5",
   "metadata": {},
   "outputs": [
    {
     "data": {
      "text/plain": [
       "['Adil', 'python', 12, 0.23, True]"
      ]
     },
     "execution_count": 61,
     "metadata": {},
     "output_type": "execute_result"
    }
   ],
   "source": [
    "[\"Adil\",\"python\",12,0.23,True]"
   ]
  },
  {
   "cell_type": "code",
   "execution_count": 62,
   "id": "5c90c41b-6b11-40ce-b3c3-ca4988be182c",
   "metadata": {},
   "outputs": [
    {
     "data": {
      "text/plain": [
       "['p', 'w', 's', 'k', 'i', 'l', 'l', 's']"
      ]
     },
     "execution_count": 62,
     "metadata": {},
     "output_type": "execute_result"
    }
   ],
   "source": [
    "list(str3)"
   ]
  },
  {
   "cell_type": "code",
   "execution_count": 63,
   "id": "fe83cf0c-d50c-40d1-bd0d-c57e7f547ac7",
   "metadata": {},
   "outputs": [],
   "source": [
    "str1=\"Pw skills data sciece masters\""
   ]
  },
  {
   "cell_type": "code",
   "execution_count": 64,
   "id": "25c9ef3d-30a9-4aee-a66e-c938de2215ac",
   "metadata": {},
   "outputs": [
    {
     "data": {
      "text/plain": [
       "['Pw', 'skills', 'data', 'sciece', 'masters']"
      ]
     },
     "execution_count": 64,
     "metadata": {},
     "output_type": "execute_result"
    }
   ],
   "source": [
    "list(str1.split(\" \"))"
   ]
  },
  {
   "cell_type": "code",
   "execution_count": 66,
   "id": "b62e73eb-2c56-4045-a1ca-ee851e097647",
   "metadata": {},
   "outputs": [],
   "source": [
    "lst1=str1.split(' ')"
   ]
  },
  {
   "cell_type": "code",
   "execution_count": 78,
   "id": "f1716af4-6aa1-416d-9ffb-81aecbbfe716",
   "metadata": {},
   "outputs": [],
   "source": [
    "## concatenation operation\n",
    "lst2=lst1 + [['new element']]"
   ]
  },
  {
   "cell_type": "code",
   "execution_count": 79,
   "id": "b63280b9-610e-455c-b4dd-1604a817dda0",
   "metadata": {},
   "outputs": [
    {
     "data": {
      "text/plain": [
       "['new element']"
      ]
     },
     "execution_count": 79,
     "metadata": {},
     "output_type": "execute_result"
    }
   ],
   "source": [
    "lst2[-1]"
   ]
  },
  {
   "cell_type": "code",
   "execution_count": 80,
   "id": "05836e6c-8f25-4dff-973f-98ef363e03db",
   "metadata": {},
   "outputs": [
    {
     "data": {
      "text/plain": [
       "['Pw',\n",
       " 'skills',\n",
       " 'data',\n",
       " 'sciece',\n",
       " 'masters',\n",
       " 'Pw',\n",
       " 'skills',\n",
       " 'data',\n",
       " 'sciece',\n",
       " 'masters']"
      ]
     },
     "execution_count": 80,
     "metadata": {},
     "output_type": "execute_result"
    }
   ],
   "source": [
    "lst1 * 2"
   ]
  },
  {
   "cell_type": "code",
   "execution_count": 88,
   "id": "be35d43e-82b1-4703-9977-dc2daa0c5254",
   "metadata": {},
   "outputs": [],
   "source": [
    "lst1[3]=\"science\""
   ]
  },
  {
   "cell_type": "code",
   "execution_count": 90,
   "id": "d0febd41-3633-4414-9cde-f7d6707d449f",
   "metadata": {},
   "outputs": [
    {
     "name": "stdout",
     "output_type": "stream",
     "text": [
      "science\n"
     ]
    }
   ],
   "source": [
    "for i in lst1:\n",
    "    if i == \"science\":\n",
    "        print(i)\n",
    "        break\n",
    "    \n"
   ]
  },
  {
   "cell_type": "code",
   "execution_count": 93,
   "id": "38ee6d17-ea20-4b3f-91c7-be5704313f42",
   "metadata": {},
   "outputs": [
    {
     "data": {
      "text/plain": [
       "True"
      ]
     },
     "execution_count": 93,
     "metadata": {},
     "output_type": "execute_result"
    }
   ],
   "source": [
    "\"data\" in lst1"
   ]
  },
  {
   "cell_type": "code",
   "execution_count": 94,
   "id": "48439402-a6b4-45d3-8cae-c347addea140",
   "metadata": {},
   "outputs": [],
   "source": [
    "lst2=[\"zebra\",\"monkey\", \"donkey\",\"lion\"]\n",
    "lst3=[5,6,2,9,5,8,6]"
   ]
  },
  {
   "cell_type": "code",
   "execution_count": 96,
   "id": "90e42d29-1683-42bf-b308-bc6dd85d2c31",
   "metadata": {},
   "outputs": [
    {
     "name": "stdout",
     "output_type": "stream",
     "text": [
      "zebra\n"
     ]
    }
   ],
   "source": [
    "print(max(lst2))  # ascii value"
   ]
  },
  {
   "cell_type": "code",
   "execution_count": 97,
   "id": "1fc65579-66b9-4c64-8b07-5089392d5fce",
   "metadata": {},
   "outputs": [
    {
     "name": "stdout",
     "output_type": "stream",
     "text": [
      "9\n"
     ]
    }
   ],
   "source": [
    "print(max(lst3))"
   ]
  },
  {
   "cell_type": "code",
   "execution_count": 98,
   "id": "331fd3dd-36e9-4d30-9015-a735eb71b9c6",
   "metadata": {},
   "outputs": [
    {
     "name": "stdout",
     "output_type": "stream",
     "text": [
      "2\n"
     ]
    }
   ],
   "source": [
    "print(min(lst3))"
   ]
  },
  {
   "cell_type": "code",
   "execution_count": 99,
   "id": "2543f87c-85c9-46d6-8dab-c1ecc71bbd9e",
   "metadata": {},
   "outputs": [],
   "source": [
    "lst3.append(\"Adil\")  # to add smthing in list"
   ]
  },
  {
   "cell_type": "code",
   "execution_count": 100,
   "id": "2c1caefb-4f17-4fc0-ae63-79443ddb77ab",
   "metadata": {},
   "outputs": [
    {
     "data": {
      "text/plain": [
       "[5, 6, 2, 9, 5, 8, 6, 'Adil']"
      ]
     },
     "execution_count": 100,
     "metadata": {},
     "output_type": "execute_result"
    }
   ],
   "source": [
    "lst3"
   ]
  },
  {
   "cell_type": "code",
   "execution_count": 102,
   "id": "310302e7-0b63-45a4-99a4-85363cc848c0",
   "metadata": {},
   "outputs": [],
   "source": [
    "lst3.append([\"Data\",'science'])"
   ]
  },
  {
   "cell_type": "code",
   "execution_count": 103,
   "id": "cf74f025-cb39-4b85-a242-72feedafde7b",
   "metadata": {},
   "outputs": [
    {
     "data": {
      "text/plain": [
       "[5, 6, 2, 9, 5, 8, 6, 'Adil', ['Data', 'science']]"
      ]
     },
     "execution_count": 103,
     "metadata": {},
     "output_type": "execute_result"
    }
   ],
   "source": [
    "lst3"
   ]
  },
  {
   "cell_type": "code",
   "execution_count": 104,
   "id": "cabac4ea-ecb6-4891-8aae-03473a6f7dd0",
   "metadata": {},
   "outputs": [
    {
     "data": {
      "text/plain": [
       "['Data', 'science']"
      ]
     },
     "execution_count": 104,
     "metadata": {},
     "output_type": "execute_result"
    }
   ],
   "source": [
    "lst3.pop()"
   ]
  },
  {
   "cell_type": "code",
   "execution_count": 105,
   "id": "a9dd4413-bbbd-4af2-b8df-d47bb625e5c5",
   "metadata": {},
   "outputs": [
    {
     "data": {
      "text/plain": [
       "[5, 6, 2, 9, 5, 8, 6, 'Adil']"
      ]
     },
     "execution_count": 105,
     "metadata": {},
     "output_type": "execute_result"
    }
   ],
   "source": [
    "lst3"
   ]
  },
  {
   "cell_type": "code",
   "execution_count": 106,
   "id": "63bd9947-cd74-40e3-b069-0d85473f567d",
   "metadata": {},
   "outputs": [
    {
     "data": {
      "text/plain": [
       "9"
      ]
     },
     "execution_count": 106,
     "metadata": {},
     "output_type": "execute_result"
    }
   ],
   "source": [
    "lst3.pop(3)"
   ]
  },
  {
   "cell_type": "code",
   "execution_count": 107,
   "id": "a78c4702-6bb0-46af-bc2f-fba81f4fd083",
   "metadata": {},
   "outputs": [
    {
     "ename": "TypeError",
     "evalue": "'str' object cannot be interpreted as an integer",
     "output_type": "error",
     "traceback": [
      "\u001b[0;31m---------------------------------------------------------------------------\u001b[0m",
      "\u001b[0;31mTypeError\u001b[0m                                 Traceback (most recent call last)",
      "Cell \u001b[0;32mIn[107], line 1\u001b[0m\n\u001b[0;32m----> 1\u001b[0m \u001b[43mlst3\u001b[49m\u001b[38;5;241;43m.\u001b[39;49m\u001b[43mpop\u001b[49m\u001b[43m(\u001b[49m\u001b[38;5;124;43m\"\u001b[39;49m\u001b[38;5;124;43mAdil\u001b[39;49m\u001b[38;5;124;43m\"\u001b[39;49m\u001b[43m)\u001b[49m\n",
      "\u001b[0;31mTypeError\u001b[0m: 'str' object cannot be interpreted as an integer"
     ]
    }
   ],
   "source": [
    "lst3.pop(\"Adil\")"
   ]
  },
  {
   "cell_type": "code",
   "execution_count": 108,
   "id": "a512e52b-af9d-4749-8936-42a420d6e766",
   "metadata": {},
   "outputs": [
    {
     "data": {
      "text/plain": [
       "[5, 6, 2, 5, 8, 6, 'Adil']"
      ]
     },
     "execution_count": 108,
     "metadata": {},
     "output_type": "execute_result"
    }
   ],
   "source": [
    "lst3"
   ]
  },
  {
   "cell_type": "code",
   "execution_count": 110,
   "id": "90d77f5d-bf89-4657-8e02-f9821884ae62",
   "metadata": {},
   "outputs": [],
   "source": [
    "lst3.reverse()"
   ]
  },
  {
   "cell_type": "code",
   "execution_count": 111,
   "id": "501ed411-6b5d-4a31-9f7c-f9ca01e159b7",
   "metadata": {},
   "outputs": [
    {
     "data": {
      "text/plain": [
       "['Adil', 6, 8, 5, 2, 6, 5]"
      ]
     },
     "execution_count": 111,
     "metadata": {},
     "output_type": "execute_result"
    }
   ],
   "source": [
    "lst3"
   ]
  },
  {
   "cell_type": "code",
   "execution_count": 56,
   "id": "ce02cb20-3333-4f67-bc71-8ae391717612",
   "metadata": {},
   "outputs": [],
   "source": [
    "lst4=[3,4,1,2,7,9,5]"
   ]
  },
  {
   "cell_type": "code",
   "execution_count": 57,
   "id": "8be78b1d-dd71-419b-92ab-28b466aa30e0",
   "metadata": {},
   "outputs": [],
   "source": [
    "lst4.extend([6,8])"
   ]
  },
  {
   "cell_type": "code",
   "execution_count": 59,
   "id": "1c248e29-9088-4e1a-9bde-2a71227f8832",
   "metadata": {},
   "outputs": [
    {
     "data": {
      "text/plain": [
       "[3, 4, 1, 2, 7, 9, 5, 6, 8]"
      ]
     },
     "execution_count": 59,
     "metadata": {},
     "output_type": "execute_result"
    }
   ],
   "source": [
    "lst4"
   ]
  },
  {
   "cell_type": "code",
   "execution_count": 60,
   "id": "14008b01-e9c9-4776-b916-547bb4112002",
   "metadata": {},
   "outputs": [],
   "source": [
    "lst4.sort()     # for acending order"
   ]
  },
  {
   "cell_type": "code",
   "execution_count": 61,
   "id": "752a9195-e5e7-4294-818f-4ccc8cadf6f9",
   "metadata": {},
   "outputs": [
    {
     "data": {
      "text/plain": [
       "[1, 2, 3, 4, 5, 6, 7, 8, 9]"
      ]
     },
     "execution_count": 61,
     "metadata": {},
     "output_type": "execute_result"
    }
   ],
   "source": [
    "lst4"
   ]
  },
  {
   "cell_type": "markdown",
   "id": "e06f65ea-9041-452f-bbbc-066fa8b7c371",
   "metadata": {},
   "source": [
    "## Nested List"
   ]
  },
  {
   "cell_type": "code",
   "execution_count": 63,
   "id": "936d5bff-76ba-4ab3-bd76-1b2f87f36aac",
   "metadata": {},
   "outputs": [
    {
     "name": "stdout",
     "output_type": "stream",
     "text": [
      "[[1, 2, 3, 4, 5, 6, 7, 8, 9]]\n"
     ]
    }
   ],
   "source": [
    "lst1=[1,2,3]\n",
    "lst2=[4,5,6]\n",
    "lst3=[7,8,9]\n",
    "matrix=[lst1+lst2+lst3]\n",
    "print(matrix)"
   ]
  },
  {
   "cell_type": "code",
   "execution_count": 64,
   "id": "821c2429-d721-4574-9680-a22870081d14",
   "metadata": {},
   "outputs": [
    {
     "name": "stdout",
     "output_type": "stream",
     "text": [
      "[[1, 2, 3], [4, 5, 6], [7, 8, 9]]\n"
     ]
    }
   ],
   "source": [
    "lst1=[1,2,3]\n",
    "lst2=[4,5,6]\n",
    "lst3=[7,8,9]\n",
    "matrix=[lst1,lst2,lst3]\n",
    "print(matrix)"
   ]
  },
  {
   "cell_type": "code",
   "execution_count": 65,
   "id": "b359a1ed-c505-4c9c-b545-08ecc367f74b",
   "metadata": {},
   "outputs": [
    {
     "data": {
      "text/plain": [
       "6"
      ]
     },
     "execution_count": 65,
     "metadata": {},
     "output_type": "execute_result"
    }
   ],
   "source": [
    "matrix[1][2]"
   ]
  },
  {
   "cell_type": "code",
   "execution_count": 67,
   "id": "9e8dc861-1bcf-456a-b96d-74331c706a90",
   "metadata": {},
   "outputs": [
    {
     "data": {
      "text/plain": [
       "[8, 9]"
      ]
     },
     "execution_count": 67,
     "metadata": {},
     "output_type": "execute_result"
    }
   ],
   "source": [
    "matrix[2][1:]"
   ]
  },
  {
   "cell_type": "code",
   "execution_count": 79,
   "id": "63597999-be4b-4d7f-8f0c-d55108774eb3",
   "metadata": {},
   "outputs": [
    {
     "name": "stdout",
     "output_type": "stream",
     "text": [
      "[0] [1] [2] [3] [4] [5] [6] [7] [8] [9] [10] [11] [12] [13] [14] [15] [16] [17] [18] [19] "
     ]
    }
   ],
   "source": [
    "for i in range(20):\n",
    "    print([i],end=\" \")"
   ]
  },
  {
   "cell_type": "code",
   "execution_count": 82,
   "id": "f081810d-528d-4395-ad2f-d476254629f0",
   "metadata": {},
   "outputs": [],
   "source": [
    "i=[i for i in range(20)]"
   ]
  },
  {
   "cell_type": "code",
   "execution_count": 84,
   "id": "ac0e35ca-558c-4089-a5bd-fbfc0bafa1b3",
   "metadata": {},
   "outputs": [
    {
     "data": {
      "text/plain": [
       "[0, 1, 2, 3, 4, 5, 6, 7, 8, 9, 10, 11, 12, 13, 14, 15, 16, 17, 18, 19]"
      ]
     },
     "execution_count": 84,
     "metadata": {},
     "output_type": "execute_result"
    }
   ],
   "source": [
    "i"
   ]
  },
  {
   "cell_type": "code",
   "execution_count": 87,
   "id": "3c9e14bf-d305-4be7-9ee7-b6dd7f08d5b7",
   "metadata": {},
   "outputs": [
    {
     "name": "stdout",
     "output_type": "stream",
     "text": [
      "This is an even number : 0\n",
      "This is an odd number : 1\n",
      "This is an even number : 2\n",
      "This is an odd number : 3\n",
      "This is an even number : 4\n",
      "This is an odd number : 5\n",
      "This is an even number : 6\n",
      "This is an odd number : 7\n",
      "This is an even number : 8\n",
      "This is an odd number : 9\n",
      "This is an even number : 10\n",
      "This is an odd number : 11\n",
      "This is an even number : 12\n",
      "This is an odd number : 13\n",
      "This is an even number : 14\n",
      "This is an odd number : 15\n",
      "This is an even number : 16\n",
      "This is an odd number : 17\n",
      "This is an even number : 18\n",
      "This is an odd number : 19\n"
     ]
    }
   ],
   "source": [
    "for k in i:\n",
    "    \n",
    "    if k%2==0:\n",
    "        print(\"This is an even number :\",k)\n",
    "    else:\n",
    "        print(\"This is an odd number :\",k)\n",
    "    "
   ]
  },
  {
   "cell_type": "code",
   "execution_count": 91,
   "id": "a36a9cef-7c81-4d5a-9a3a-c15900cabad6",
   "metadata": {},
   "outputs": [
    {
     "data": {
      "text/plain": [
       "[0, '', 2, '', 4, '', 6, '', 8, '', 10, '', 12, '', 14, '', 16, '', 18, '']"
      ]
     },
     "execution_count": 91,
     "metadata": {},
     "output_type": "execute_result"
    }
   ],
   "source": [
    "## List Comprehension\n",
    "## even number\n",
    "[i if i%2==0 else \"\" for i in range(0,20)]\n",
    "## for i in range (0,20)-> if i%2==0 print(i)-> else condition "
   ]
  },
  {
   "cell_type": "code",
   "execution_count": 92,
   "id": "d0518d0f-4d6f-438d-95bf-d81e1e6934a4",
   "metadata": {},
   "outputs": [
    {
     "name": "stdout",
     "output_type": "stream",
     "text": [
      "20\n",
      "16\n"
     ]
    }
   ],
   "source": [
    "lst=[1,2,3,4,5,6,7,8]\n",
    "even_sum=0\n",
    "odd_sum=0\n",
    "for i in lst:\n",
    "    if i%2==0:\n",
    "        even_sum+=i\n",
    "    else:\n",
    "        odd_sum+=i\n",
    "print(even_sum)\n",
    "print(odd_sum)"
   ]
  },
  {
   "cell_type": "code",
   "execution_count": 99,
   "id": "007455c0-8cc9-4983-9072-84f470911003",
   "metadata": {},
   "outputs": [
    {
     "name": "stdout",
     "output_type": "stream",
     "text": [
      "20\n"
     ]
    }
   ],
   "source": [
    "even_sum=sum([num for num in lst if num%2==0])\n",
    "print(even_sum)"
   ]
  },
  {
   "cell_type": "code",
   "execution_count": 100,
   "id": "e2ec6f7f-e73e-47a3-b38e-7f5908acc7e9",
   "metadata": {},
   "outputs": [
    {
     "name": "stdout",
     "output_type": "stream",
     "text": [
      "16\n"
     ]
    }
   ],
   "source": [
    "odd_sum=sum([num for num in lst if num%2!=0])\n",
    "print(odd_sum)"
   ]
  },
  {
   "cell_type": "code",
   "execution_count": 101,
   "id": "c33b3dc4-f531-4b36-beb4-319a476153e1",
   "metadata": {},
   "outputs": [
    {
     "data": {
      "text/plain": [
       "[1, 4, 9, 16, 25, 36, 49, 64]"
      ]
     },
     "execution_count": 101,
     "metadata": {},
     "output_type": "execute_result"
    }
   ],
   "source": [
    "[num**2 for num in lst ]"
   ]
  },
  {
   "cell_type": "code",
   "execution_count": 104,
   "id": "ea1a754b-11c7-447c-b296-0b503c730874",
   "metadata": {},
   "outputs": [
    {
     "data": {
      "text/plain": [
       "[1, 2, 3, 4]"
      ]
     },
     "execution_count": 104,
     "metadata": {},
     "output_type": "execute_result"
    }
   ],
   "source": [
    "number=[-2,-1,0,1,2,3,4]\n",
    "[num for num in number if num>0]"
   ]
  },
  {
   "cell_type": "code",
   "execution_count": 105,
   "id": "58a5820a-d446-41a1-91b9-1d34847bee48",
   "metadata": {},
   "outputs": [
    {
     "data": {
      "text/plain": [
       "['a', 'b', 'c', 'd']"
      ]
     },
     "execution_count": 105,
     "metadata": {},
     "output_type": "execute_result"
    }
   ],
   "source": [
    "words = [\"apple\", \"banana\", \"cherry\", \"dates\" ]\n",
    "\n",
    "[alpha[0] for alpha in words]"
   ]
  },
  {
   "cell_type": "code",
   "execution_count": null,
   "id": "aa50090f-5f53-4b37-927a-4183a274be25",
   "metadata": {},
   "outputs": [],
   "source": [
    "(9/5)*temp +32"
   ]
  },
  {
   "cell_type": "code",
   "execution_count": 107,
   "id": "77805678-ff68-4b7e-abf4-864c817f809f",
   "metadata": {},
   "outputs": [
    {
     "data": {
      "text/plain": [
       "[32.0, 50.0, 68.0, 86.0, 104.0, 122.0]"
      ]
     },
     "execution_count": 107,
     "metadata": {},
     "output_type": "execute_result"
    }
   ],
   "source": [
    "celcius_temperature = [0, 10, 20, 30, 40, 50]\n",
    "[(9/5)*temp +32 for temp in celcius_temperature]"
   ]
  },
  {
   "cell_type": "code",
   "execution_count": 110,
   "id": "eabeb864-ba35-465a-a77e-713c196a57bd",
   "metadata": {},
   "outputs": [
    {
     "data": {
      "text/plain": [
       "[1, 2, 3, 4, 5, 6, 7, 8, 9]"
      ]
     },
     "execution_count": 110,
     "metadata": {},
     "output_type": "execute_result"
    }
   ],
   "source": [
    "lists = [[1, 2, 3], [4, 5, 6], [7, 8, 9]]\n",
    "[j for i in lists for j in i]"
   ]
  },
  {
   "cell_type": "code",
   "execution_count": null,
   "id": "28bcef77-125e-4e2a-940b-aeadf9e63a22",
   "metadata": {},
   "outputs": [],
   "source": []
  }
 ],
 "metadata": {
  "kernelspec": {
   "display_name": "Python 3 (ipykernel)",
   "language": "python",
   "name": "python3"
  },
  "language_info": {
   "codemirror_mode": {
    "name": "ipython",
    "version": 3
   },
   "file_extension": ".py",
   "mimetype": "text/x-python",
   "name": "python",
   "nbconvert_exporter": "python",
   "pygments_lexer": "ipython3",
   "version": "3.10.8"
  }
 },
 "nbformat": 4,
 "nbformat_minor": 5
}
