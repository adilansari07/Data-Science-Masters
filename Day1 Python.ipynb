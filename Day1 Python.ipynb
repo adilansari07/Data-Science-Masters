{
 "cells": [
  {
   "cell_type": "markdown",
   "id": "8d3cde8e-7d13-4b3d-9b36-4e5125fd65b2",
   "metadata": {},
   "source": [
    "# Number"
   ]
  },
  {
   "cell_type": "code",
   "execution_count": 1,
   "id": "fc2ac9db-d78e-4386-9c56-e27e9dd5ad47",
   "metadata": {},
   "outputs": [
    {
     "data": {
      "text/plain": [
       "4"
      ]
     },
     "execution_count": 1,
     "metadata": {},
     "output_type": "execute_result"
    }
   ],
   "source": [
    "1+3"
   ]
  },
  {
   "cell_type": "code",
   "execution_count": 2,
   "id": "5238d82b-cc12-4708-9a31-9d2736cf0e14",
   "metadata": {},
   "outputs": [
    {
     "name": "stdout",
     "output_type": "stream",
     "text": [
      "4\n"
     ]
    }
   ],
   "source": [
    "print(1+3)"
   ]
  },
  {
   "cell_type": "code",
   "execution_count": 3,
   "id": "6e88a435-aa10-47cf-bc86-903894d9bd56",
   "metadata": {},
   "outputs": [
    {
     "data": {
      "text/plain": [
       "5"
      ]
     },
     "execution_count": 3,
     "metadata": {},
     "output_type": "execute_result"
    }
   ],
   "source": [
    "a=5\n",
    "a"
   ]
  },
  {
   "cell_type": "code",
   "execution_count": 5,
   "id": "e4f75c9e-a6e8-45e4-bbd4-db7b298a15fd",
   "metadata": {},
   "outputs": [
    {
     "name": "stdout",
     "output_type": "stream",
     "text": [
      "5\n"
     ]
    }
   ],
   "source": [
    "print(a)"
   ]
  },
  {
   "cell_type": "code",
   "execution_count": 1,
   "id": "6d1b0871-27e3-46e4-940f-9288c83583e0",
   "metadata": {},
   "outputs": [
    {
     "name": "stdout",
     "output_type": "stream",
     "text": [
      "Hello world my name is mohammad adil \n",
      " and i learn from pwskill\n"
     ]
    }
   ],
   "source": [
    "print(\"Hello world my name is mohammad adil \\n and i learn from pwskill\")"
   ]
  },
  {
   "cell_type": "markdown",
   "id": "c1703772-4e29-4077-97af-8ff9e62ca8e8",
   "metadata": {},
   "source": [
    "# Variale Assignment"
   ]
  },
  {
   "cell_type": "code",
   "execution_count": 8,
   "id": "d990e60e-3611-4b69-ae45-742f40f79910",
   "metadata": {},
   "outputs": [],
   "source": [
    "name=\"Adil\""
   ]
  },
  {
   "cell_type": "code",
   "execution_count": 9,
   "id": "18e06ecb-3fc0-41e2-8bb7-6cbaaf13044f",
   "metadata": {},
   "outputs": [
    {
     "data": {
      "text/plain": [
       "'Adil'"
      ]
     },
     "execution_count": 9,
     "metadata": {},
     "output_type": "execute_result"
    }
   ],
   "source": [
    "name"
   ]
  },
  {
   "cell_type": "code",
   "execution_count": 10,
   "id": "94baf55e-f50a-4e7a-bd3d-72f02f248fe3",
   "metadata": {},
   "outputs": [],
   "source": [
    "name=\"Mohammad Adil\""
   ]
  },
  {
   "cell_type": "code",
   "execution_count": 11,
   "id": "f264e8ca-496f-4045-85c3-78e1b9a421b5",
   "metadata": {},
   "outputs": [
    {
     "data": {
      "text/plain": [
       "'Mohammad Adil'"
      ]
     },
     "execution_count": 11,
     "metadata": {},
     "output_type": "execute_result"
    }
   ],
   "source": [
    "name"
   ]
  },
  {
   "cell_type": "code",
   "execution_count": 12,
   "id": "2aedafee-b438-4421-ac00-19caea62b1d8",
   "metadata": {},
   "outputs": [
    {
     "data": {
      "text/plain": [
       "str"
      ]
     },
     "execution_count": 12,
     "metadata": {},
     "output_type": "execute_result"
    }
   ],
   "source": [
    "type(\"\")"
   ]
  },
  {
   "cell_type": "code",
   "execution_count": 14,
   "id": "45aa1484-3fe4-4bdf-ac21-feee59378afd",
   "metadata": {},
   "outputs": [],
   "source": [
    "decimal_num=2.4"
   ]
  },
  {
   "cell_type": "code",
   "execution_count": 15,
   "id": "2d8c21b1-ce51-419d-a947-6276afbfd962",
   "metadata": {},
   "outputs": [
    {
     "data": {
      "text/plain": [
       "float"
      ]
     },
     "execution_count": 15,
     "metadata": {},
     "output_type": "execute_result"
    }
   ],
   "source": [
    "type(decimal_num)"
   ]
  },
  {
   "cell_type": "code",
   "execution_count": 17,
   "id": "84c14f72-91e3-4611-8259-e4a0a15b9c9a",
   "metadata": {},
   "outputs": [
    {
     "name": "stdout",
     "output_type": "stream",
     "text": [
      "ineuron\n",
      "PWSKILL\n"
     ]
    }
   ],
   "source": [
    "# Variables are case sensitive\n",
    "company=\"ineuron\"\n",
    "Company=\"PWSKILL\"\n",
    "print(company)\n",
    "print(Company)"
   ]
  },
  {
   "cell_type": "code",
   "execution_count": 19,
   "id": "f0c83af6-2221-46c3-9c9f-48c42435c888",
   "metadata": {},
   "outputs": [],
   "source": [
    "a=\"23\""
   ]
  },
  {
   "cell_type": "code",
   "execution_count": 20,
   "id": "fd90c021-5ae7-42af-a5f8-545e1a4d4cf4",
   "metadata": {},
   "outputs": [
    {
     "data": {
      "text/plain": [
       "str"
      ]
     },
     "execution_count": 20,
     "metadata": {},
     "output_type": "execute_result"
    }
   ],
   "source": [
    "type(a)"
   ]
  },
  {
   "cell_type": "markdown",
   "id": "09f250ac-fd41-430a-b26d-882118e31819",
   "metadata": {},
   "source": [
    "# Dynamic Typing"
   ]
  },
  {
   "cell_type": "code",
   "execution_count": 1,
   "id": "0d290152-0b6a-4741-b6ce-4f7455868d1d",
   "metadata": {},
   "outputs": [],
   "source": [
    "a=12\n",
    "str1=\"Adil\"\n",
    "a=\"Var\""
   ]
  },
  {
   "cell_type": "code",
   "execution_count": 2,
   "id": "60be9560-f17f-4807-aa4d-247d7810d09f",
   "metadata": {},
   "outputs": [
    {
     "name": "stdout",
     "output_type": "stream",
     "text": [
      "<class 'str'>\n"
     ]
    }
   ],
   "source": [
    "print(type(a))"
   ]
  },
  {
   "cell_type": "code",
   "execution_count": 3,
   "id": "a3194efb-edb3-414e-871f-79aa8f1cd010",
   "metadata": {},
   "outputs": [
    {
     "data": {
      "text/plain": [
       "1"
      ]
     },
     "execution_count": 3,
     "metadata": {},
     "output_type": "execute_result"
    }
   ],
   "source": [
    "int(1.5)"
   ]
  },
  {
   "cell_type": "code",
   "execution_count": 4,
   "id": "3f1c8451-359b-4575-ba74-d80bd9a39fcc",
   "metadata": {},
   "outputs": [
    {
     "data": {
      "text/plain": [
       "'11'"
      ]
     },
     "execution_count": 4,
     "metadata": {},
     "output_type": "execute_result"
    }
   ],
   "source": [
    "\"1\"+\"1\""
   ]
  },
  {
   "cell_type": "code",
   "execution_count": 6,
   "id": "6d86f6b1-cfc7-4c33-8ff4-6381642cfcd1",
   "metadata": {},
   "outputs": [
    {
     "ename": "TypeError",
     "evalue": "unsupported operand type(s) for +: 'int' and 'str'",
     "output_type": "error",
     "traceback": [
      "\u001b[0;31m---------------------------------------------------------------------------\u001b[0m",
      "\u001b[0;31mTypeError\u001b[0m                                 Traceback (most recent call last)",
      "Cell \u001b[0;32mIn[6], line 1\u001b[0m\n\u001b[0;32m----> 1\u001b[0m \u001b[38;5;28;43mint\u001b[39;49m\u001b[43m(\u001b[49m\u001b[38;5;124;43m\"\u001b[39;49m\u001b[38;5;124;43m1\u001b[39;49m\u001b[38;5;124;43m\"\u001b[39;49m\u001b[43m)\u001b[49m\u001b[38;5;241;43m+\u001b[39;49m\u001b[43m \u001b[49m\u001b[38;5;124;43m\"\u001b[39;49m\u001b[38;5;124;43m1\u001b[39;49m\u001b[38;5;124;43m\"\u001b[39;49m \u001b[38;5;66;03m# bcz one is integer and one is integer\u001b[39;00m\n",
      "\u001b[0;31mTypeError\u001b[0m: unsupported operand type(s) for +: 'int' and 'str'"
     ]
    }
   ],
   "source": [
    "int(\"1\")+ \"1\" # bcz  first one is integer and the other is string"
   ]
  },
  {
   "cell_type": "code",
   "execution_count": 7,
   "id": "b10a499a-e351-4212-a552-837c3f50e6ab",
   "metadata": {},
   "outputs": [
    {
     "data": {
      "text/plain": [
       "'11111111111111111111'"
      ]
     },
     "execution_count": 7,
     "metadata": {},
     "output_type": "execute_result"
    }
   ],
   "source": [
    "\"1\"*20"
   ]
  },
  {
   "cell_type": "code",
   "execution_count": 2,
   "id": "856e9332-b1a1-48ba-bc9d-946986fdfc4d",
   "metadata": {},
   "outputs": [
    {
     "name": "stdout",
     "output_type": "stream",
     "text": [
      "My age is 23\n"
     ]
    }
   ],
   "source": [
    "age=23\n",
    "print(\"My age is\",age)"
   ]
  },
  {
   "cell_type": "code",
   "execution_count": 5,
   "id": "9ddee0d6-c5b9-4a70-a617-d08f6294959d",
   "metadata": {},
   "outputs": [
    {
     "name": "stdout",
     "output_type": "stream",
     "text": [
      "My age is 23\n"
     ]
    }
   ],
   "source": [
    "print(f\"My age is {age}\") # where f is used for formating"
   ]
  },
  {
   "cell_type": "code",
   "execution_count": 6,
   "id": "33b5ecf4-93aa-43a6-996c-5907a3277737",
   "metadata": {},
   "outputs": [],
   "source": [
    "b=\"Years\""
   ]
  },
  {
   "cell_type": "code",
   "execution_count": 7,
   "id": "758339d8-2627-4cbe-af78-89bcacaaa136",
   "metadata": {},
   "outputs": [
    {
     "name": "stdout",
     "output_type": "stream",
     "text": [
      "My age is (23, 'Years')\n"
     ]
    }
   ],
   "source": [
    "print(f\"My age is {age,b}\")"
   ]
  },
  {
   "cell_type": "code",
   "execution_count": 9,
   "id": "6b5e2c37-b645-4f65-9b1d-3d0ac5787ed6",
   "metadata": {},
   "outputs": [
    {
     "name": "stdout",
     "output_type": "stream",
     "text": [
      "My age is 23 Years\n"
     ]
    }
   ],
   "source": [
    "print(f\"My age is {age} {b}\")"
   ]
  },
  {
   "cell_type": "code",
   "execution_count": 12,
   "id": "8bb3fb49-e4ea-430c-8f1f-164ee1fe860c",
   "metadata": {},
   "outputs": [
    {
     "name": "stdout",
     "output_type": "stream",
     "text": [
      "My name is Adil and age is 23\n"
     ]
    }
   ],
   "source": [
    "name=\"Adil\"\n",
    "age=23\n",
    "print(\"My name is {} and age is {}\".format(name,age))"
   ]
  },
  {
   "cell_type": "code",
   "execution_count": 13,
   "id": "1a588499-06c5-411a-bf80-cedb5e6d032c",
   "metadata": {},
   "outputs": [
    {
     "name": "stdout",
     "output_type": "stream",
     "text": [
      "My name is Adil and age is 23\n"
     ]
    }
   ],
   "source": [
    "#place holder\n",
    "print(\"My name is {firstname} and age is {firstage}\".format(firstage=age,firstname=name))"
   ]
  },
  {
   "cell_type": "code",
   "execution_count": 14,
   "id": "9adbbdaf-9474-4841-b2d5-158d8ebf437f",
   "metadata": {},
   "outputs": [
    {
     "name": "stdout",
     "output_type": "stream",
     "text": [
      "My age is 23 and i have completed my degree of Bsc with the name of Mohammad Adil\n"
     ]
    }
   ],
   "source": [
    "name=\"Mohammad Adil\"\n",
    "age=23\n",
    "degree=\"Bsc\"\n",
    "print(\"My age is {c} and i have completed my degree of {b} with the name of {a}\".format(c=age,b=degree,a=name))"
   ]
  },
  {
   "cell_type": "code",
   "execution_count": 15,
   "id": "07a29a93-f7d5-49d6-b0aa-168f5607723c",
   "metadata": {},
   "outputs": [
    {
     "name": "stdout",
     "output_type": "stream",
     "text": [
      "My age is 23 and i have completed my degree of Bsc with the name of Mohammad Adil\n"
     ]
    }
   ],
   "source": [
    "print(f\"My age is {age} and i have completed my degree of {degree} with the name of {name}\",)"
   ]
  },
  {
   "cell_type": "markdown",
   "id": "c67fcf0c-e47a-47f4-8bdf-660bf38b4756",
   "metadata": {},
   "source": [
    "## Control flow\n",
    "### Decision making statement"
   ]
  },
  {
   "cell_type": "code",
   "execution_count": 21,
   "id": "6fb16cd0-65c0-49db-9e66-3b55b1cb8810",
   "metadata": {},
   "outputs": [
    {
     "name": "stdin",
     "output_type": "stream",
     "text": [
      "Enter your age 11\n"
     ]
    },
    {
     "name": "stdout",
     "output_type": "stream",
     "text": [
      "Your age is 11\n",
      "You are kid\n",
      "You are not eligible for vote\n"
     ]
    }
   ],
   "source": [
    "age=int(input(\"Enter your age\"))\n",
    "print(f\"Your age is {age}\",)\n",
    "if age<18:\n",
    "    if age<12:\n",
    "        print(\"You are kid\")\n",
    "    print(\"You are not eligible for vote\")\n",
    "else:\n",
    "    print(\"You are eligible for vote\")"
   ]
  },
  {
   "cell_type": "code",
   "execution_count": 26,
   "id": "4f63689a-42c4-4cad-ad2c-7708381257d7",
   "metadata": {},
   "outputs": [
    {
     "name": "stdin",
     "output_type": "stream",
     "text": [
      "Enter your age 23\n"
     ]
    },
    {
     "name": "stdout",
     "output_type": "stream",
     "text": [
      "You are young blood\n"
     ]
    }
   ],
   "source": [
    "age=int(input(\"Enter your age\"))\n",
    "if age>=18 and age<=45:\n",
    "    print(\"You are young blood\")"
   ]
  },
  {
   "cell_type": "code",
   "execution_count": 30,
   "id": "0944838d-cdaf-4e7a-b836-0d1995e899a8",
   "metadata": {},
   "outputs": [
    {
     "name": "stdout",
     "output_type": "stream",
     "text": [
      "1800.0\n"
     ]
    }
   ],
   "source": [
    "print(2000-2000*10/100)"
   ]
  },
  {
   "cell_type": "code",
   "execution_count": 33,
   "id": "d7589813-fb0a-4847-8779-fe20d49d88ac",
   "metadata": {},
   "outputs": [
    {
     "name": "stdin",
     "output_type": "stream",
     "text": [
      "Enter your product price 800\n"
     ]
    },
    {
     "name": "stdout",
     "output_type": "stream",
     "text": [
      "Your payable amount is 560.0\n",
      "Thank you for visiting us\n"
     ]
    }
   ],
   "source": [
    "price=int(input(\"Enter your product price\"))\n",
    "if price>1000:\n",
    "    print(\"your payable amount is\",price-price*20/100)\n",
    "elif price<1000:\n",
    "    print(\"Your payable amount is\",price-price*30/100)\n",
    "print(\"Thank you for visiting us\")"
   ]
  },
  {
   "cell_type": "code",
   "execution_count": 5,
   "id": "b8c6a6ed-1950-40a5-8b8e-e8dbe00c9666",
   "metadata": {},
   "outputs": [
    {
     "name": "stdin",
     "output_type": "stream",
     "text": [
      "Enter the product price 2999\n"
     ]
    },
    {
     "name": "stdout",
     "output_type": "stream",
     "text": [
      "The price of your product is 2999\n",
      "Your payable amount is 2099.2999999999997\n",
      "Congratulation you won a ticket to Goa\n",
      "Thanks for visting us\n"
     ]
    }
   ],
   "source": [
    "product_price=int(input(\"Enter the product price\"))\n",
    "print(\"The price of your product is\",product_price)\n",
    "if product_price>=100 and product_price<1000:\n",
    "    print(f\"Your payable amount is {product_price*0.9}\")\n",
    "elif product_price>=1000 and product_price<2000:\n",
    "    print(f\"Your payable amount is {product_price*0.8}\")\n",
    "elif product_price>=2000:\n",
    "    print(f\"Your payable amount is {product_price*0.7}\")\n",
    "    if product_price==2999:\n",
    "        print(\"Congratulation you won a ticket to Goa\")\n",
    "else:\n",
    "    print(\"Lets drink tea\")\n",
    "print(\"Thanks for visting us\")"
   ]
  },
  {
   "cell_type": "code",
   "execution_count": 7,
   "id": "d212652c-4d4e-404f-aefa-5eadba37834d",
   "metadata": {},
   "outputs": [
    {
     "name": "stdin",
     "output_type": "stream",
     "text": [
      "Enter the value 900\n"
     ]
    },
    {
     "name": "stdout",
     "output_type": "stream",
     "text": [
      "The value is less than or equal to 999\n"
     ]
    }
   ],
   "source": [
    "#single statement\n",
    "val=int(input(\"Enter the value\"))\n",
    "if val<=999:print(\"The value is less than or equal to 999\")"
   ]
  },
  {
   "cell_type": "markdown",
   "id": "50ee89dd-b315-4a1e-a689-0afb2ab0b410",
   "metadata": {},
   "source": [
    "## Loop statements\n",
    "1. while loop\n",
    "2. for loop\n",
    "3. nested loop\n",
    "4. loop control(break,continue,pass)"
   ]
  },
  {
   "cell_type": "code",
   "execution_count": 29,
   "id": "cc05a643-fbef-4d6f-a47d-896d2b469e47",
   "metadata": {},
   "outputs": [
    {
     "name": "stdout",
     "output_type": "stream",
     "text": [
      "25\n",
      "26\n",
      "27\n",
      "28\n",
      "29\n",
      "30\n",
      "31\n",
      "32\n",
      "33\n",
      "34\n",
      "35\n",
      "36\n",
      "37\n",
      "38\n",
      "39\n",
      "40\n",
      "41\n",
      "42\n",
      "43\n",
      "44\n",
      "45\n",
      "46\n",
      "47\n",
      "48\n",
      "49\n",
      "50\n",
      "51\n",
      "52\n",
      "53\n",
      "54\n",
      "55\n",
      "56\n",
      "57\n",
      "58\n",
      "59\n",
      "60\n"
     ]
    }
   ],
   "source": [
    "joining_age=25\n",
    "while joining_age<=60:\n",
    "    print(joining_age)\n",
    "    joining_age=joining_age+1\n",
    "    \n",
    "    "
   ]
  },
  {
   "cell_type": "markdown",
   "id": "5653d490-f8cf-464e-8f39-ca48a57ed2ad",
   "metadata": {},
   "source": [
    "## For Loop"
   ]
  },
  {
   "cell_type": "code",
   "execution_count": 30,
   "id": "b0176fa2-bcfc-406a-8e09-232cb75bd1fa",
   "metadata": {},
   "outputs": [
    {
     "name": "stdout",
     "output_type": "stream",
     "text": [
      "A\n",
      "d\n",
      "i\n",
      "l\n"
     ]
    }
   ],
   "source": [
    "name=\"Adil\"\n",
    "for i in name:\n",
    "    print(i)"
   ]
  },
  {
   "cell_type": "code",
   "execution_count": 31,
   "id": "075d85bf-f1a6-4bc5-98ee-0f45eb218d1b",
   "metadata": {},
   "outputs": [
    {
     "data": {
      "text/plain": [
       "'i'"
      ]
     },
     "execution_count": 31,
     "metadata": {},
     "output_type": "execute_result"
    }
   ],
   "source": [
    "name[2]"
   ]
  },
  {
   "cell_type": "code",
   "execution_count": 34,
   "id": "2cdf8b16-329e-4a44-b179-0e30dd8e0955",
   "metadata": {},
   "outputs": [
    {
     "name": "stdout",
     "output_type": "stream",
     "text": [
      "Adil"
     ]
    }
   ],
   "source": [
    "name=\"Adil\"\n",
    "for i in name:\n",
    "    print(i,end='')"
   ]
  },
  {
   "cell_type": "code",
   "execution_count": null,
   "id": "b5fe29c4-b434-46c1-9570-9efac8fa682f",
   "metadata": {},
   "outputs": [],
   "source": []
  }
 ],
 "metadata": {
  "kernelspec": {
   "display_name": "Python 3 (ipykernel)",
   "language": "python",
   "name": "python3"
  },
  "language_info": {
   "codemirror_mode": {
    "name": "ipython",
    "version": 3
   },
   "file_extension": ".py",
   "mimetype": "text/x-python",
   "name": "python",
   "nbconvert_exporter": "python",
   "pygments_lexer": "ipython3",
   "version": "3.10.8"
  }
 },
 "nbformat": 4,
 "nbformat_minor": 5
}
