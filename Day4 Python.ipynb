{
 "cells": [
  {
   "cell_type": "markdown",
   "id": "f188b09d-1c4b-47f9-a67a-129abd4cc277",
   "metadata": {},
   "source": [
    "## Tuple"
   ]
  },
  {
   "cell_type": "code",
   "execution_count": 1,
   "id": "e80539c1-c7b8-43e9-89ee-8af340fcd648",
   "metadata": {},
   "outputs": [],
   "source": [
    "a=( )"
   ]
  },
  {
   "cell_type": "code",
   "execution_count": 3,
   "id": "5a2e09f2-0f80-4ef2-bf47-a913be450b12",
   "metadata": {},
   "outputs": [
    {
     "data": {
      "text/plain": [
       "tuple"
      ]
     },
     "execution_count": 3,
     "metadata": {},
     "output_type": "execute_result"
    }
   ],
   "source": [
    "type(a)"
   ]
  },
  {
   "cell_type": "code",
   "execution_count": 5,
   "id": "21118d09-dda7-405d-98f6-addc6cca539b",
   "metadata": {},
   "outputs": [],
   "source": [
    "a1 = (1,2,3,2.3,45+3j, \"adil\", True)"
   ]
  },
  {
   "cell_type": "code",
   "execution_count": 6,
   "id": "9582ec90-3690-4138-9378-156d27a010ea",
   "metadata": {},
   "outputs": [
    {
     "data": {
      "text/plain": [
       "tuple"
      ]
     },
     "execution_count": 6,
     "metadata": {},
     "output_type": "execute_result"
    }
   ],
   "source": [
    "type(a1)"
   ]
  },
  {
   "cell_type": "code",
   "execution_count": 7,
   "id": "853be3c7-edf8-4670-9882-0d077b1a3e3c",
   "metadata": {},
   "outputs": [
    {
     "data": {
      "text/plain": [
       "(1, 2, 3, 2.3, (45+3j), 'adil', True)"
      ]
     },
     "execution_count": 7,
     "metadata": {},
     "output_type": "execute_result"
    }
   ],
   "source": [
    "a1"
   ]
  },
  {
   "cell_type": "code",
   "execution_count": 8,
   "id": "cf09cd22-2938-4486-b79b-b95ad86fc96a",
   "metadata": {},
   "outputs": [
    {
     "data": {
      "text/plain": [
       "1"
      ]
     },
     "execution_count": 8,
     "metadata": {},
     "output_type": "execute_result"
    }
   ],
   "source": [
    "a1[0]"
   ]
  },
  {
   "cell_type": "code",
   "execution_count": 9,
   "id": "16944d7d-3ed2-446a-b6ff-b5050b40ba27",
   "metadata": {},
   "outputs": [
    {
     "ename": "TypeError",
     "evalue": "'tuple' object does not support item assignment",
     "output_type": "error",
     "traceback": [
      "\u001b[0;31m---------------------------------------------------------------------------\u001b[0m",
      "\u001b[0;31mTypeError\u001b[0m                                 Traceback (most recent call last)",
      "Cell \u001b[0;32mIn[9], line 1\u001b[0m\n\u001b[0;32m----> 1\u001b[0m \u001b[43ma1\u001b[49m\u001b[43m[\u001b[49m\u001b[38;5;241;43m0\u001b[39;49m\u001b[43m]\u001b[49m\u001b[38;5;241m=\u001b[39m\u001b[38;5;124m\"\u001b[39m\u001b[38;5;124mMohd\u001b[39m\u001b[38;5;124m\"\u001b[39m\n",
      "\u001b[0;31mTypeError\u001b[0m: 'tuple' object does not support item assignment"
     ]
    }
   ],
   "source": [
    "a1[0]=\"Mohd\""
   ]
  },
  {
   "cell_type": "code",
   "execution_count": 13,
   "id": "774bb283-805e-4230-bd9e-0f06aabb0f78",
   "metadata": {},
   "outputs": [],
   "source": [
    "a1=a1[::-1]"
   ]
  },
  {
   "cell_type": "code",
   "execution_count": 14,
   "id": "ba951bd4-edc1-4ec6-a69d-bef8c715f0d9",
   "metadata": {},
   "outputs": [
    {
     "data": {
      "text/plain": [
       "(True, 'adil', (45+3j), 2.3, 3, 2, 1)"
      ]
     },
     "execution_count": 14,
     "metadata": {},
     "output_type": "execute_result"
    }
   ],
   "source": [
    "a1"
   ]
  },
  {
   "cell_type": "code",
   "execution_count": 15,
   "id": "4f873af4-e700-4765-aa0f-d1723b0f62a3",
   "metadata": {},
   "outputs": [
    {
     "data": {
      "text/plain": [
       "(True, 'adil', (45+3j))"
      ]
     },
     "execution_count": 15,
     "metadata": {},
     "output_type": "execute_result"
    }
   ],
   "source": [
    "a1[0:3]"
   ]
  },
  {
   "cell_type": "code",
   "execution_count": 17,
   "id": "8f4725d1-5519-4cae-8c4c-2e8b7a96efe5",
   "metadata": {},
   "outputs": [
    {
     "data": {
      "text/plain": [
       "1"
      ]
     },
     "execution_count": 17,
     "metadata": {},
     "output_type": "execute_result"
    }
   ],
   "source": [
    "a1.count(2)"
   ]
  },
  {
   "cell_type": "code",
   "execution_count": 19,
   "id": "a8692c85-e90b-4f18-b24e-11c780999762",
   "metadata": {},
   "outputs": [
    {
     "data": {
      "text/plain": [
       "0"
      ]
     },
     "execution_count": 19,
     "metadata": {},
     "output_type": "execute_result"
    }
   ],
   "source": [
    "a1.count(\"abc\")"
   ]
  },
  {
   "cell_type": "code",
   "execution_count": 21,
   "id": "f57e5329-ecc9-4544-a81d-2d2018b86e4e",
   "metadata": {},
   "outputs": [
    {
     "data": {
      "text/plain": [
       "1"
      ]
     },
     "execution_count": 21,
     "metadata": {},
     "output_type": "execute_result"
    }
   ],
   "source": [
    "a1.index(\"adil\")"
   ]
  },
  {
   "cell_type": "code",
   "execution_count": 22,
   "id": "bfc24029-818b-459f-aa9c-f950bb018ee6",
   "metadata": {},
   "outputs": [
    {
     "data": {
      "text/plain": [
       "2"
      ]
     },
     "execution_count": 22,
     "metadata": {},
     "output_type": "execute_result"
    }
   ],
   "source": [
    "a1.count(True)"
   ]
  },
  {
   "cell_type": "code",
   "execution_count": 24,
   "id": "426bc353-0d46-433d-8dcd-e44d7daa8706",
   "metadata": {},
   "outputs": [
    {
     "data": {
      "text/plain": [
       "2"
      ]
     },
     "execution_count": 24,
     "metadata": {},
     "output_type": "execute_result"
    }
   ],
   "source": [
    "a1.count(1)"
   ]
  },
  {
   "cell_type": "code",
   "execution_count": 28,
   "id": "40a0c2fb-2242-4104-b0d1-c4163fc33de8",
   "metadata": {},
   "outputs": [
    {
     "name": "stdout",
     "output_type": "stream",
     "text": [
      "True <class 'bool'>\n",
      "adil <class 'str'>\n",
      "(45+3j) <class 'complex'>\n",
      "2.3 <class 'float'>\n",
      "3 <class 'int'>\n",
      "2 <class 'int'>\n",
      "1 <class 'int'>\n"
     ]
    }
   ],
   "source": [
    "for i in a1:\n",
    "    print(i,type(i))"
   ]
  },
  {
   "cell_type": "code",
   "execution_count": 29,
   "id": "222eda67-5bc4-4a4a-bab6-8a1be275974b",
   "metadata": {},
   "outputs": [],
   "source": [
    "a2=(1,2,3,5,6)"
   ]
  },
  {
   "cell_type": "code",
   "execution_count": 30,
   "id": "4920c213-cfdb-4a3b-ade9-c985bfe44056",
   "metadata": {},
   "outputs": [
    {
     "data": {
      "text/plain": [
       "(1, 2, 3, 5, 6, 1, 2, 3, 5, 6)"
      ]
     },
     "execution_count": 30,
     "metadata": {},
     "output_type": "execute_result"
    }
   ],
   "source": [
    "a2*2"
   ]
  },
  {
   "cell_type": "code",
   "execution_count": 31,
   "id": "2157edc4-5671-451e-8b45-2e69ada2e38e",
   "metadata": {},
   "outputs": [
    {
     "data": {
      "text/plain": [
       "6"
      ]
     },
     "execution_count": 31,
     "metadata": {},
     "output_type": "execute_result"
    }
   ],
   "source": [
    "max(a2)"
   ]
  },
  {
   "cell_type": "code",
   "execution_count": 32,
   "id": "a3022b27-51bd-4e18-b4bc-b779f7b4ebb1",
   "metadata": {},
   "outputs": [
    {
     "data": {
      "text/plain": [
       "1"
      ]
     },
     "execution_count": 32,
     "metadata": {},
     "output_type": "execute_result"
    }
   ],
   "source": [
    "min(a2)"
   ]
  },
  {
   "cell_type": "code",
   "execution_count": 33,
   "id": "241462c7-643f-43f6-bbbf-5398308f2ee2",
   "metadata": {},
   "outputs": [],
   "source": [
    "t1=(1,2,3,4)\n",
    "t2=(5,6,7,8)\n",
    "t3=(t1,t2)"
   ]
  },
  {
   "cell_type": "code",
   "execution_count": 34,
   "id": "56ea8c42-98a7-401b-a9ec-1e975c91dc3a",
   "metadata": {},
   "outputs": [
    {
     "data": {
      "text/plain": [
       "((1, 2, 3, 4), (5, 6, 7, 8))"
      ]
     },
     "execution_count": 34,
     "metadata": {},
     "output_type": "execute_result"
    }
   ],
   "source": [
    "t3"
   ]
  },
  {
   "cell_type": "code",
   "execution_count": 36,
   "id": "a6be556e-3b1c-4a9d-8a19-538b3eb075e6",
   "metadata": {},
   "outputs": [],
   "source": [
    "del t3"
   ]
  },
  {
   "cell_type": "code",
   "execution_count": 37,
   "id": "0fff55b8-015e-4055-b0ea-8bccf57c2a19",
   "metadata": {},
   "outputs": [
    {
     "ename": "NameError",
     "evalue": "name 't3' is not defined",
     "output_type": "error",
     "traceback": [
      "\u001b[0;31m---------------------------------------------------------------------------\u001b[0m",
      "\u001b[0;31mNameError\u001b[0m                                 Traceback (most recent call last)",
      "Cell \u001b[0;32mIn[37], line 1\u001b[0m\n\u001b[0;32m----> 1\u001b[0m \u001b[43mt3\u001b[49m\n",
      "\u001b[0;31mNameError\u001b[0m: name 't3' is not defined"
     ]
    }
   ],
   "source": [
    "t3"
   ]
  },
  {
   "cell_type": "code",
   "execution_count": 38,
   "id": "1fe5b544-960a-4f4c-90c9-78e9d0444e9c",
   "metadata": {},
   "outputs": [
    {
     "data": {
      "text/plain": [
       "4"
      ]
     },
     "execution_count": 38,
     "metadata": {},
     "output_type": "execute_result"
    }
   ],
   "source": [
    "len(t1)"
   ]
  },
  {
   "cell_type": "code",
   "execution_count": 41,
   "id": "e6263d52-5156-4ee1-817e-fd815dc0d298",
   "metadata": {},
   "outputs": [
    {
     "data": {
      "text/plain": [
       "False"
      ]
     },
     "execution_count": 41,
     "metadata": {},
     "output_type": "execute_result"
    }
   ],
   "source": [
    "\"adil\" in t1  # to check availability"
   ]
  },
  {
   "cell_type": "code",
   "execution_count": 40,
   "id": "87e757f3-ec99-4419-80c5-b74a614d8aeb",
   "metadata": {},
   "outputs": [
    {
     "data": {
      "text/plain": [
       "True"
      ]
     },
     "execution_count": 40,
     "metadata": {},
     "output_type": "execute_result"
    }
   ],
   "source": [
    "2 in t1"
   ]
  },
  {
   "cell_type": "markdown",
   "id": "eedd6e67-a76c-4851-9b43-96c1859830eb",
   "metadata": {},
   "source": [
    "## Set"
   ]
  },
  {
   "cell_type": "code",
   "execution_count": 42,
   "id": "3fd8180c-8793-4013-a50a-88341f6ec0f5",
   "metadata": {},
   "outputs": [],
   "source": [
    "s={}"
   ]
  },
  {
   "cell_type": "code",
   "execution_count": 43,
   "id": "54c51ef0-c286-494a-9923-5e9f53af6566",
   "metadata": {},
   "outputs": [
    {
     "data": {
      "text/plain": [
       "dict"
      ]
     },
     "execution_count": 43,
     "metadata": {},
     "output_type": "execute_result"
    }
   ],
   "source": [
    "type(s)"
   ]
  },
  {
   "cell_type": "code",
   "execution_count": 46,
   "id": "17c982bb-0380-4f7e-b7fe-da6e5cd2e00b",
   "metadata": {},
   "outputs": [],
   "source": [
    "s1={1,2,3,4}"
   ]
  },
  {
   "cell_type": "code",
   "execution_count": 47,
   "id": "c80d65e1-88cc-42ee-8b40-786ae753a183",
   "metadata": {},
   "outputs": [
    {
     "data": {
      "text/plain": [
       "set"
      ]
     },
     "execution_count": 47,
     "metadata": {},
     "output_type": "execute_result"
    }
   ],
   "source": [
    "type(s1)"
   ]
  },
  {
   "cell_type": "code",
   "execution_count": 48,
   "id": "4d82b900-1248-4653-b196-f6f35bc7d9cb",
   "metadata": {},
   "outputs": [],
   "source": [
    "s2 = {1,1,1,2,3,3,3,3,4,4,5,5,5,66,6,6,75,5,6464,45,3,34,34,34}"
   ]
  },
  {
   "cell_type": "code",
   "execution_count": 50,
   "id": "174e6a57-1732-44c5-bb61-df38ade7805e",
   "metadata": {},
   "outputs": [
    {
     "data": {
      "text/plain": [
       "{1, 2, 3, 4, 5, 6, 34, 45, 66, 75, 6464}"
      ]
     },
     "execution_count": 50,
     "metadata": {},
     "output_type": "execute_result"
    }
   ],
   "source": [
    "s2   # remove duplicate items"
   ]
  },
  {
   "cell_type": "code",
   "execution_count": 51,
   "id": "6548d95e-95ee-4780-951c-d68f9911a642",
   "metadata": {},
   "outputs": [
    {
     "data": {
      "text/plain": [
       "[6464, 1, 2, 3, 4, 5, 66, 6, 34, 75, 45]"
      ]
     },
     "execution_count": 51,
     "metadata": {},
     "output_type": "execute_result"
    }
   ],
   "source": [
    "list(s2)"
   ]
  },
  {
   "cell_type": "code",
   "execution_count": 52,
   "id": "4756026e-8ca9-48b3-bcf0-17411d6b5e64",
   "metadata": {},
   "outputs": [
    {
     "data": {
      "text/plain": [
       "(6464, 1, 2, 3, 4, 5, 66, 6, 34, 75, 45)"
      ]
     },
     "execution_count": 52,
     "metadata": {},
     "output_type": "execute_result"
    }
   ],
   "source": [
    "tuple(s2)"
   ]
  },
  {
   "cell_type": "code",
   "execution_count": 53,
   "id": "7e3e4c3d-d17d-47da-a71d-c3c49ee1c2eb",
   "metadata": {},
   "outputs": [
    {
     "data": {
      "text/plain": [
       "{1, 2, 3, 4, 5, 6, 34, 45, 66, 75, 6464}"
      ]
     },
     "execution_count": 53,
     "metadata": {},
     "output_type": "execute_result"
    }
   ],
   "source": [
    "s2"
   ]
  },
  {
   "cell_type": "code",
   "execution_count": 54,
   "id": "00859cd8-b79d-4f56-88b0-d1b59bf7a190",
   "metadata": {},
   "outputs": [
    {
     "ename": "TypeError",
     "evalue": "unhashable type: 'list'",
     "output_type": "error",
     "traceback": [
      "\u001b[0;31m---------------------------------------------------------------------------\u001b[0m",
      "\u001b[0;31mTypeError\u001b[0m                                 Traceback (most recent call last)",
      "Cell \u001b[0;32mIn[54], line 1\u001b[0m\n\u001b[0;32m----> 1\u001b[0m s3 \u001b[38;5;241m=\u001b[39m {\u001b[38;5;241m1\u001b[39m,\u001b[38;5;241m2\u001b[39m,\u001b[38;5;241m3\u001b[39m,\u001b[38;5;241m4\u001b[39m,[\u001b[38;5;241m1\u001b[39m,\u001b[38;5;241m2\u001b[39m,\u001b[38;5;241m3\u001b[39m,\u001b[38;5;241m4\u001b[39m]}\n",
      "\u001b[0;31mTypeError\u001b[0m: unhashable type: 'list'"
     ]
    }
   ],
   "source": [
    "s3 = {1,2,3,4,[1,2,3,4]}"
   ]
  },
  {
   "cell_type": "code",
   "execution_count": 55,
   "id": "8d38d093-4491-46bd-8bc8-f7e59d3e6071",
   "metadata": {},
   "outputs": [],
   "source": [
    "s3 = {1,2,3,4,5,(1,2,3,3,4)}"
   ]
  },
  {
   "cell_type": "code",
   "execution_count": 56,
   "id": "dea97207-7a39-41e1-b0e9-d5853205547d",
   "metadata": {},
   "outputs": [
    {
     "data": {
      "text/plain": [
       "{(1, 2, 3, 3, 4), 1, 2, 3, 4, 5}"
      ]
     },
     "execution_count": 56,
     "metadata": {},
     "output_type": "execute_result"
    }
   ],
   "source": [
    "s3"
   ]
  },
  {
   "cell_type": "code",
   "execution_count": 57,
   "id": "97d28204-4958-49cf-9db4-2214dddaa3e1",
   "metadata": {},
   "outputs": [],
   "source": [
    "s4 = {\"adil\" , \"Adil\"}"
   ]
  },
  {
   "cell_type": "code",
   "execution_count": 58,
   "id": "ce257795-8120-49e1-a1d3-3797cc4c3f45",
   "metadata": {},
   "outputs": [
    {
     "data": {
      "text/plain": [
       "{'Adil', 'adil'}"
      ]
     },
     "execution_count": 58,
     "metadata": {},
     "output_type": "execute_result"
    }
   ],
   "source": [
    "s4"
   ]
  },
  {
   "cell_type": "code",
   "execution_count": 59,
   "id": "326fd52e-022a-403a-9dde-b9f1c5f633dd",
   "metadata": {},
   "outputs": [],
   "source": [
    "s5 = {\"adil\" , \"adil\" , 1, 2, 3}"
   ]
  },
  {
   "cell_type": "code",
   "execution_count": 60,
   "id": "47b4a6a9-990a-421e-b625-eb14a7326341",
   "metadata": {},
   "outputs": [
    {
     "data": {
      "text/plain": [
       "{1, 2, 3, 'adil'}"
      ]
     },
     "execution_count": 60,
     "metadata": {},
     "output_type": "execute_result"
    }
   ],
   "source": [
    "s5"
   ]
  },
  {
   "cell_type": "code",
   "execution_count": 61,
   "id": "7aaa2530-2cd5-4954-94c0-ac2e7e8642ba",
   "metadata": {},
   "outputs": [
    {
     "ename": "TypeError",
     "evalue": "'set' object is not subscriptable",
     "output_type": "error",
     "traceback": [
      "\u001b[0;31m---------------------------------------------------------------------------\u001b[0m",
      "\u001b[0;31mTypeError\u001b[0m                                 Traceback (most recent call last)",
      "Cell \u001b[0;32mIn[61], line 1\u001b[0m\n\u001b[0;32m----> 1\u001b[0m \u001b[43ms5\u001b[49m\u001b[43m[\u001b[49m\u001b[38;5;241;43m0\u001b[39;49m\u001b[43m]\u001b[49m\n",
      "\u001b[0;31mTypeError\u001b[0m: 'set' object is not subscriptable"
     ]
    }
   ],
   "source": [
    "s5[0]"
   ]
  },
  {
   "cell_type": "code",
   "execution_count": 62,
   "id": "23e303a2-73e0-4bdd-873e-ee0aea1dc7ea",
   "metadata": {},
   "outputs": [
    {
     "ename": "TypeError",
     "evalue": "'set' object is not subscriptable",
     "output_type": "error",
     "traceback": [
      "\u001b[0;31m---------------------------------------------------------------------------\u001b[0m",
      "\u001b[0;31mTypeError\u001b[0m                                 Traceback (most recent call last)",
      "Cell \u001b[0;32mIn[62], line 1\u001b[0m\n\u001b[0;32m----> 1\u001b[0m \u001b[43ms5\u001b[49m\u001b[43m[\u001b[49m\u001b[43m:\u001b[49m\u001b[43m:\u001b[49m\u001b[38;5;241;43m-\u001b[39;49m\u001b[38;5;241;43m1\u001b[39;49m\u001b[43m]\u001b[49m\n",
      "\u001b[0;31mTypeError\u001b[0m: 'set' object is not subscriptable"
     ]
    }
   ],
   "source": [
    "s5[::-1]"
   ]
  },
  {
   "cell_type": "code",
   "execution_count": 63,
   "id": "f61dc1bb-7c31-4e37-8538-f1b4d2e5bc5c",
   "metadata": {},
   "outputs": [
    {
     "name": "stdout",
     "output_type": "stream",
     "text": [
      "1\n",
      "2\n",
      "3\n",
      "adil\n"
     ]
    }
   ],
   "source": [
    "for i in s5:\n",
    "    print(i)"
   ]
  },
  {
   "cell_type": "code",
   "execution_count": 64,
   "id": "88f2680e-4446-4462-91e2-337961661405",
   "metadata": {},
   "outputs": [],
   "source": [
    "s5.add(\"mohd\")"
   ]
  },
  {
   "cell_type": "code",
   "execution_count": 65,
   "id": "88d922c4-a92c-431f-8ffb-66e0e05f114b",
   "metadata": {},
   "outputs": [
    {
     "data": {
      "text/plain": [
       "{1, 2, 3, 'adil', 'mohd'}"
      ]
     },
     "execution_count": 65,
     "metadata": {},
     "output_type": "execute_result"
    }
   ],
   "source": [
    "s5"
   ]
  },
  {
   "cell_type": "code",
   "execution_count": 66,
   "id": "9e427f35-6319-4b36-bce9-caefeec39a80",
   "metadata": {},
   "outputs": [],
   "source": [
    "s5.add(2)"
   ]
  },
  {
   "cell_type": "code",
   "execution_count": 67,
   "id": "25b6655f-8c70-489e-8456-4479369e568e",
   "metadata": {},
   "outputs": [
    {
     "data": {
      "text/plain": [
       "{1, 2, 3, 'adil', 'mohd'}"
      ]
     },
     "execution_count": 67,
     "metadata": {},
     "output_type": "execute_result"
    }
   ],
   "source": [
    "s5"
   ]
  },
  {
   "cell_type": "code",
   "execution_count": 68,
   "id": "b308b9e8-486f-4428-9426-5c3968ac884d",
   "metadata": {},
   "outputs": [
    {
     "data": {
      "text/plain": [
       "5"
      ]
     },
     "execution_count": 68,
     "metadata": {},
     "output_type": "execute_result"
    }
   ],
   "source": [
    "len(s5)"
   ]
  },
  {
   "cell_type": "code",
   "execution_count": 69,
   "id": "061d79c2-7697-42b1-b147-f53ddd31fa95",
   "metadata": {},
   "outputs": [
    {
     "data": {
      "text/plain": [
       "1"
      ]
     },
     "execution_count": 69,
     "metadata": {},
     "output_type": "execute_result"
    }
   ],
   "source": [
    "s5.pop()"
   ]
  },
  {
   "cell_type": "code",
   "execution_count": 70,
   "id": "07ee9009-f209-4711-b39c-a347cc6f5035",
   "metadata": {},
   "outputs": [
    {
     "data": {
      "text/plain": [
       "{2, 3, 'adil', 'mohd'}"
      ]
     },
     "execution_count": 70,
     "metadata": {},
     "output_type": "execute_result"
    }
   ],
   "source": [
    "s5"
   ]
  },
  {
   "cell_type": "code",
   "execution_count": 71,
   "id": "11721d84-ace1-4d06-ac2c-eb702ee9d440",
   "metadata": {},
   "outputs": [
    {
     "data": {
      "text/plain": [
       "2"
      ]
     },
     "execution_count": 71,
     "metadata": {},
     "output_type": "execute_result"
    }
   ],
   "source": [
    "s5.pop()"
   ]
  },
  {
   "cell_type": "code",
   "execution_count": 72,
   "id": "11051ca1-ff26-47a8-8547-9bae4ab3f7d6",
   "metadata": {},
   "outputs": [
    {
     "data": {
      "text/plain": [
       "3"
      ]
     },
     "execution_count": 72,
     "metadata": {},
     "output_type": "execute_result"
    }
   ],
   "source": [
    "s5.pop()"
   ]
  },
  {
   "cell_type": "code",
   "execution_count": 73,
   "id": "9db550c4-9608-4b7a-bb31-55985f9d2157",
   "metadata": {},
   "outputs": [
    {
     "data": {
      "text/plain": [
       "{'adil', 'mohd'}"
      ]
     },
     "execution_count": 73,
     "metadata": {},
     "output_type": "execute_result"
    }
   ],
   "source": [
    "s5"
   ]
  },
  {
   "cell_type": "code",
   "execution_count": 74,
   "id": "0b7206ee-526a-423b-a5da-6df13cdf5869",
   "metadata": {},
   "outputs": [],
   "source": [
    "s5.clear()"
   ]
  },
  {
   "cell_type": "code",
   "execution_count": 75,
   "id": "51d30bc4-cca6-42ef-8964-12bbde7d64a1",
   "metadata": {},
   "outputs": [
    {
     "data": {
      "text/plain": [
       "set()"
      ]
     },
     "execution_count": 75,
     "metadata": {},
     "output_type": "execute_result"
    }
   ],
   "source": [
    "s5"
   ]
  },
  {
   "cell_type": "code",
   "execution_count": 79,
   "id": "b8ef2580-ca16-4fb5-ba90-54b05453c371",
   "metadata": {},
   "outputs": [],
   "source": [
    "s6 = {1,2,3,5}\n",
    "s7 = {1,2,3,4}"
   ]
  },
  {
   "cell_type": "code",
   "execution_count": 80,
   "id": "cddfa182-dbcb-47e1-9954-c4d616e51d6b",
   "metadata": {},
   "outputs": [
    {
     "data": {
      "text/plain": [
       "{5}"
      ]
     },
     "execution_count": 80,
     "metadata": {},
     "output_type": "execute_result"
    }
   ],
   "source": [
    "s6.difference(s7)"
   ]
  },
  {
   "cell_type": "code",
   "execution_count": 81,
   "id": "96b504e8-c661-456b-8e95-0ecf2b802a97",
   "metadata": {},
   "outputs": [
    {
     "ename": "AttributeError",
     "evalue": "'set' object has no attribute 'differencei'",
     "output_type": "error",
     "traceback": [
      "\u001b[0;31m---------------------------------------------------------------------------\u001b[0m",
      "\u001b[0;31mAttributeError\u001b[0m                            Traceback (most recent call last)",
      "Cell \u001b[0;32mIn[81], line 1\u001b[0m\n\u001b[0;32m----> 1\u001b[0m \u001b[43ms7\u001b[49m\u001b[38;5;241;43m.\u001b[39;49m\u001b[43mdifferencei\u001b[49m(s6)\n",
      "\u001b[0;31mAttributeError\u001b[0m: 'set' object has no attribute 'differencei'"
     ]
    }
   ],
   "source": [
    "s7.differencei(s6)"
   ]
  },
  {
   "cell_type": "code",
   "execution_count": 85,
   "id": "d50279f7-3a46-4cbc-ab6b-97735835723e",
   "metadata": {},
   "outputs": [
    {
     "data": {
      "text/plain": [
       "{1, 2, 3, 5}"
      ]
     },
     "execution_count": 85,
     "metadata": {},
     "output_type": "execute_result"
    }
   ],
   "source": [
    "s6.copy()"
   ]
  },
  {
   "cell_type": "code",
   "execution_count": 83,
   "id": "d23a1b97-e3b3-4083-b1ce-4ae5d7438344",
   "metadata": {},
   "outputs": [
    {
     "data": {
      "text/plain": [
       "{1, 2, 3, 5}"
      ]
     },
     "execution_count": 83,
     "metadata": {},
     "output_type": "execute_result"
    }
   ],
   "source": [
    "s6"
   ]
  },
  {
   "cell_type": "markdown",
   "id": "db4decd1-2473-485e-a402-29e251687abf",
   "metadata": {},
   "source": [
    "## Dictionary"
   ]
  },
  {
   "cell_type": "code",
   "execution_count": 1,
   "id": "65985793-19b5-4eab-b4f9-602715692043",
   "metadata": {},
   "outputs": [],
   "source": [
    "d = {}"
   ]
  },
  {
   "cell_type": "code",
   "execution_count": 2,
   "id": "0eb9f0fc-1749-4dd6-a26f-3cba93eca497",
   "metadata": {},
   "outputs": [
    {
     "data": {
      "text/plain": [
       "dict"
      ]
     },
     "execution_count": 2,
     "metadata": {},
     "output_type": "execute_result"
    }
   ],
   "source": [
    "type(d)"
   ]
  },
  {
   "cell_type": "markdown",
   "id": "deb9b758-b5c1-4baf-b7b3-a47c941419d3",
   "metadata": {},
   "source": []
  },
  {
   "cell_type": "code",
   "execution_count": 3,
   "id": "a05f24d9-29dd-4be7-b2d9-195701433051",
   "metadata": {},
   "outputs": [],
   "source": [
    "d1 = {'name' : \"mohd\" , \"email_id\" : \"adil@gmail.com\" , \"number\" : 88888888}"
   ]
  },
  {
   "cell_type": "code",
   "execution_count": 4,
   "id": "8d9c97aa-ac99-439f-9acd-b4fe51f2d061",
   "metadata": {},
   "outputs": [
    {
     "data": {
      "text/plain": [
       "dict"
      ]
     },
     "execution_count": 4,
     "metadata": {},
     "output_type": "execute_result"
    }
   ],
   "source": [
    "type(d1)"
   ]
  },
  {
   "cell_type": "code",
   "execution_count": 5,
   "id": "0c56e137-bfc8-4d66-97c3-70a7df2dd997",
   "metadata": {},
   "outputs": [
    {
     "data": {
      "text/plain": [
       "{'name': 'mohd', 'email_id': 'adil@gmail.com', 'number': 88888888}"
      ]
     },
     "execution_count": 5,
     "metadata": {},
     "output_type": "execute_result"
    }
   ],
   "source": [
    "d1"
   ]
  },
  {
   "cell_type": "code",
   "execution_count": 6,
   "id": "3a31b183-7fae-4399-a1a7-88582acf883a",
   "metadata": {},
   "outputs": [],
   "source": [
    "d2 = {\"name\" : \"adil\" , \"name\" : \"mohd\"}"
   ]
  },
  {
   "cell_type": "code",
   "execution_count": 8,
   "id": "f7f9f8ba-2af6-4bf1-974b-03bdb8ae9dbf",
   "metadata": {},
   "outputs": [
    {
     "data": {
      "text/plain": [
       "{'name': 'mohd'}"
      ]
     },
     "execution_count": 8,
     "metadata": {},
     "output_type": "execute_result"
    }
   ],
   "source": [
    "d2  # not shown first name"
   ]
  },
  {
   "cell_type": "code",
   "execution_count": 9,
   "id": "0fac03cf-d6ea-4656-8b7a-c036d6fabf15",
   "metadata": {},
   "outputs": [],
   "source": [
    "d3 = {2342424  : \"abx\"}"
   ]
  },
  {
   "cell_type": "code",
   "execution_count": 11,
   "id": "19969aae-fff3-44a9-877f-3fe768e5035d",
   "metadata": {},
   "outputs": [
    {
     "data": {
      "text/plain": [
       "{2342424: 'abx'}"
      ]
     },
     "execution_count": 11,
     "metadata": {},
     "output_type": "execute_result"
    }
   ],
   "source": [
    "d3   # key can be numeric value "
   ]
  },
  {
   "cell_type": "code",
   "execution_count": 12,
   "id": "e568a622-458f-478e-b6ba-fb60fe9b425d",
   "metadata": {},
   "outputs": [],
   "source": [
    "d4 = {True : 123}"
   ]
  },
  {
   "cell_type": "code",
   "execution_count": 13,
   "id": "212c7c62-e522-44cd-9ee6-03c1129524ed",
   "metadata": {},
   "outputs": [
    {
     "data": {
      "text/plain": [
       "{True: 123}"
      ]
     },
     "execution_count": 13,
     "metadata": {},
     "output_type": "execute_result"
    }
   ],
   "source": [
    "d4"
   ]
  },
  {
   "cell_type": "code",
   "execution_count": 14,
   "id": "7e2ab058-23a2-40a9-8c45-e01c052c8b0a",
   "metadata": {},
   "outputs": [],
   "source": [
    "d5 = {2.34 :  23 }"
   ]
  },
  {
   "cell_type": "code",
   "execution_count": 15,
   "id": "1270785d-342d-4819-8caa-fede2faabefe",
   "metadata": {},
   "outputs": [
    {
     "data": {
      "text/plain": [
       "{2.34: 23}"
      ]
     },
     "execution_count": 15,
     "metadata": {},
     "output_type": "execute_result"
    }
   ],
   "source": [
    "d5"
   ]
  },
  {
   "cell_type": "code",
   "execution_count": 16,
   "id": "7f5cdc3d-f3d0-42ae-bf4e-2fbe76a8c182",
   "metadata": {},
   "outputs": [
    {
     "ename": "SyntaxError",
     "evalue": "incomplete input (96437872.py, line 1)",
     "output_type": "error",
     "traceback": [
      "\u001b[0;36m  Cell \u001b[0;32mIn[16], line 1\u001b[0;36m\u001b[0m\n\u001b[0;31m    d6 = {# : 123}\u001b[0m\n\u001b[0m                  ^\u001b[0m\n\u001b[0;31mSyntaxError\u001b[0m\u001b[0;31m:\u001b[0m incomplete input\n"
     ]
    }
   ],
   "source": [
    "d6 = {# : 123}"
   ]
  },
  {
   "cell_type": "code",
   "execution_count": 18,
   "id": "ac57d60b-76a2-469a-8081-264441da521a",
   "metadata": {},
   "outputs": [
    {
     "ename": "SyntaxError",
     "evalue": "invalid syntax (1478235966.py, line 1)",
     "output_type": "error",
     "traceback": [
      "\u001b[0;36m  Cell \u001b[0;32mIn[18], line 1\u001b[0;36m\u001b[0m\n\u001b[0;31m    d7 = {@ : \"abc\"}  # special character is not allowed as a key in dictionary\u001b[0m\n\u001b[0m          ^\u001b[0m\n\u001b[0;31mSyntaxError\u001b[0m\u001b[0;31m:\u001b[0m invalid syntax\n"
     ]
    }
   ],
   "source": [
    "d7 = {@ : \"abc\"}  # special character is not allowed as a key in dictionary"
   ]
  },
  {
   "cell_type": "code",
   "execution_count": 19,
   "id": "670bbcdc-3bef-4903-abd3-bbb58a648f3b",
   "metadata": {},
   "outputs": [],
   "source": [
    "d8 = {(1,2,3) : \"adil\"}"
   ]
  },
  {
   "cell_type": "code",
   "execution_count": 20,
   "id": "5965610d-54f4-41c2-80ca-783efbfc66f9",
   "metadata": {},
   "outputs": [
    {
     "data": {
      "text/plain": [
       "{(1, 2, 3): 'adil'}"
      ]
     },
     "execution_count": 20,
     "metadata": {},
     "output_type": "execute_result"
    }
   ],
   "source": [
    "d8"
   ]
  },
  {
   "cell_type": "code",
   "execution_count": 21,
   "id": "eec66e44-e5b7-49df-82e7-96500df148d4",
   "metadata": {},
   "outputs": [
    {
     "ename": "TypeError",
     "evalue": "unhashable type: 'list'",
     "output_type": "error",
     "traceback": [
      "\u001b[0;31m---------------------------------------------------------------------------\u001b[0m",
      "\u001b[0;31mTypeError\u001b[0m                                 Traceback (most recent call last)",
      "Cell \u001b[0;32mIn[21], line 1\u001b[0m\n\u001b[0;32m----> 1\u001b[0m d9 \u001b[38;5;241m=\u001b[39m {[\u001b[38;5;241m1\u001b[39m,\u001b[38;5;241m2\u001b[39m,\u001b[38;5;241m3\u001b[39m,\u001b[38;5;241m4\u001b[39m] : \u001b[38;5;124m\"\u001b[39m\u001b[38;5;124mset\u001b[39m\u001b[38;5;124m\"\u001b[39m}\n",
      "\u001b[0;31mTypeError\u001b[0m: unhashable type: 'list'"
     ]
    }
   ],
   "source": [
    "d9 = {[1,2,3,4] : \"set\"}"
   ]
  },
  {
   "cell_type": "code",
   "execution_count": 22,
   "id": "c11f4fcd-34a9-4791-8e14-5de8b713fd92",
   "metadata": {},
   "outputs": [
    {
     "ename": "TypeError",
     "evalue": "unhashable type: 'set'",
     "output_type": "error",
     "traceback": [
      "\u001b[0;31m---------------------------------------------------------------------------\u001b[0m",
      "\u001b[0;31mTypeError\u001b[0m                                 Traceback (most recent call last)",
      "Cell \u001b[0;32mIn[22], line 1\u001b[0m\n\u001b[0;32m----> 1\u001b[0m d10 \u001b[38;5;241m=\u001b[39m {{\u001b[38;5;241m1\u001b[39m,\u001b[38;5;241m2\u001b[39m,\u001b[38;5;241m3\u001b[39m} : \u001b[38;5;124m\"\u001b[39m\u001b[38;5;124mabc\u001b[39m\u001b[38;5;124m\"\u001b[39m}\n",
      "\u001b[0;31mTypeError\u001b[0m: unhashable type: 'set'"
     ]
    }
   ],
   "source": [
    "d10 = {{1,2,3} : \"abc\"}"
   ]
  },
  {
   "cell_type": "code",
   "execution_count": 23,
   "id": "c336b378-717b-45b4-8289-e8609ff2a1ff",
   "metadata": {},
   "outputs": [
    {
     "ename": "TypeError",
     "evalue": "unhashable type: 'dict'",
     "output_type": "error",
     "traceback": [
      "\u001b[0;31m---------------------------------------------------------------------------\u001b[0m",
      "\u001b[0;31mTypeError\u001b[0m                                 Traceback (most recent call last)",
      "Cell \u001b[0;32mIn[23], line 1\u001b[0m\n\u001b[0;32m----> 1\u001b[0m d11 \u001b[38;5;241m=\u001b[39m {{\u001b[38;5;124m\"\u001b[39m\u001b[38;5;124mname\u001b[39m\u001b[38;5;124m\"\u001b[39m : \u001b[38;5;124m\"\u001b[39m\u001b[38;5;124madil\u001b[39m\u001b[38;5;124m\"\u001b[39m} : \u001b[38;5;124m\"\u001b[39m\u001b[38;5;124mabcd\u001b[39m\u001b[38;5;124m\"\u001b[39m}\n",
      "\u001b[0;31mTypeError\u001b[0m: unhashable type: 'dict'"
     ]
    }
   ],
   "source": [
    "d11 = {{\"name\" : \"adil\"} : \"abcd\"}"
   ]
  },
  {
   "cell_type": "code",
   "execution_count": 24,
   "id": "b940bcb2-74d8-4449-b5cf-99e35f6de675",
   "metadata": {},
   "outputs": [],
   "source": [
    "d12 = {\"course_name\" : [\"Data science masters\" , \"Python\" , \"Java\"]}"
   ]
  },
  {
   "cell_type": "code",
   "execution_count": 25,
   "id": "2d3bddf9-7852-4702-9af6-4437adb04330",
   "metadata": {},
   "outputs": [
    {
     "data": {
      "text/plain": [
       "{'course_name': ['Data science masters', 'Python', 'Java']}"
      ]
     },
     "execution_count": 25,
     "metadata": {},
     "output_type": "execute_result"
    }
   ],
   "source": [
    "d12"
   ]
  },
  {
   "cell_type": "code",
   "execution_count": 26,
   "id": "745384a2-9dd7-4e06-b2d9-08801235d873",
   "metadata": {},
   "outputs": [],
   "source": [
    "d13 = {\"key\" : (1,2,3,3)}"
   ]
  },
  {
   "cell_type": "code",
   "execution_count": 27,
   "id": "597640fc-2e61-4b8c-b301-138d99dd2dbd",
   "metadata": {},
   "outputs": [
    {
     "data": {
      "text/plain": [
       "{'key': (1, 2, 3, 3)}"
      ]
     },
     "execution_count": 27,
     "metadata": {},
     "output_type": "execute_result"
    }
   ],
   "source": [
    "d13"
   ]
  },
  {
   "cell_type": "code",
   "execution_count": 28,
   "id": "771013da-d617-4b89-b124-86426770b286",
   "metadata": {},
   "outputs": [],
   "source": [
    "d14 = {\"key\" : {1,2,3,4}}"
   ]
  },
  {
   "cell_type": "code",
   "execution_count": 29,
   "id": "58277ca7-e4b0-4d6d-89c2-8140eee5a70a",
   "metadata": {},
   "outputs": [
    {
     "data": {
      "text/plain": [
       "{'key': {1, 2, 3, 4}}"
      ]
     },
     "execution_count": 29,
     "metadata": {},
     "output_type": "execute_result"
    }
   ],
   "source": [
    "d14"
   ]
  },
  {
   "cell_type": "code",
   "execution_count": 30,
   "id": "80d18360-a5ac-43ab-988a-24d32b7c5a58",
   "metadata": {},
   "outputs": [],
   "source": [
    "d15 = {\"key\" : {\"name\" : 'adil' , \"class\" : \"data science\"}}"
   ]
  },
  {
   "cell_type": "code",
   "execution_count": 32,
   "id": "8661d6fb-5b91-4e74-9480-2e89ea2dea60",
   "metadata": {},
   "outputs": [
    {
     "data": {
      "text/plain": [
       "{'key': {'name': 'adil', 'class': 'data science'}}"
      ]
     },
     "execution_count": 32,
     "metadata": {},
     "output_type": "execute_result"
    }
   ],
   "source": [
    "d15 # nested dictionary"
   ]
  },
  {
   "cell_type": "code",
   "execution_count": 36,
   "id": "a3f81230-aa81-49a6-bca1-f059ebcea141",
   "metadata": {},
   "outputs": [],
   "source": [
    "d16 = {\"batch_name\" : [\"data science\" , \"python\" , \"web dev\" , \"JDS\"] , \"start_date\" : (28,14,21,24) , \"mentor_name\" : {\"sudhanshu\" , \"Krish naik\" ,\"navin\" , 'anurag'}}"
   ]
  },
  {
   "cell_type": "code",
   "execution_count": 37,
   "id": "274e8c97-70d5-4582-b454-5901264713f4",
   "metadata": {},
   "outputs": [
    {
     "data": {
      "text/plain": [
       "{'batch_name': ['data science', 'python', 'web dev', 'JDS'],\n",
       " 'start_date': (28, 14, 21, 24),\n",
       " 'mentor_name': {'Krish naik', 'anurag', 'navin', 'sudhanshu'}}"
      ]
     },
     "execution_count": 37,
     "metadata": {},
     "output_type": "execute_result"
    }
   ],
   "source": [
    "d16"
   ]
  },
  {
   "cell_type": "code",
   "execution_count": 38,
   "id": "9c826800-3000-484f-bac3-cfd8bceb8fa5",
   "metadata": {},
   "outputs": [],
   "source": [
    "d16[\"timing\"] = (8,8,8)"
   ]
  },
  {
   "cell_type": "code",
   "execution_count": 39,
   "id": "c7a3c996-d1c1-4e02-8639-ceb5c5181d8a",
   "metadata": {},
   "outputs": [
    {
     "data": {
      "text/plain": [
       "{'batch_name': ['data science', 'python', 'web dev', 'JDS'],\n",
       " 'start_date': (28, 14, 21, 24),\n",
       " 'mentor_name': {'Krish naik', 'anurag', 'navin', 'sudhanshu'},\n",
       " 'timing': (8, 8, 8)}"
      ]
     },
     "execution_count": 39,
     "metadata": {},
     "output_type": "execute_result"
    }
   ],
   "source": [
    "d16"
   ]
  },
  {
   "cell_type": "code",
   "execution_count": 41,
   "id": "6ccf6367-0690-4f22-b66e-76e1279b73c9",
   "metadata": {},
   "outputs": [
    {
     "data": {
      "text/plain": [
       "['data science', 'python', 'web dev', 'JDS']"
      ]
     },
     "execution_count": 41,
     "metadata": {},
     "output_type": "execute_result"
    }
   ],
   "source": [
    "d16[\"batch_name\"]"
   ]
  },
  {
   "cell_type": "code",
   "execution_count": 43,
   "id": "39d74325-e29f-418a-92bf-ad62e92e88c0",
   "metadata": {},
   "outputs": [
    {
     "data": {
      "text/plain": [
       "set"
      ]
     },
     "execution_count": 43,
     "metadata": {},
     "output_type": "execute_result"
    }
   ],
   "source": [
    "type(d16[\"mentor_name\"])"
   ]
  },
  {
   "cell_type": "code",
   "execution_count": 45,
   "id": "5482d4d3-c9fd-43a7-af40-faad812255c6",
   "metadata": {},
   "outputs": [
    {
     "ename": "KeyError",
     "evalue": "'key'",
     "output_type": "error",
     "traceback": [
      "\u001b[0;31m---------------------------------------------------------------------------\u001b[0m",
      "\u001b[0;31mKeyError\u001b[0m                                  Traceback (most recent call last)",
      "Cell \u001b[0;32mIn[45], line 1\u001b[0m\n\u001b[0;32m----> 1\u001b[0m \u001b[43md16\u001b[49m\u001b[43m[\u001b[49m\u001b[38;5;124;43m'\u001b[39;49m\u001b[38;5;124;43mkey\u001b[39;49m\u001b[38;5;124;43m'\u001b[39;49m\u001b[43m]\u001b[49m  \u001b[38;5;66;03m# when this is not in dict\u001b[39;00m\n",
      "\u001b[0;31mKeyError\u001b[0m: 'key'"
     ]
    }
   ],
   "source": [
    "d16['key']  # when this is not in dict gives error"
   ]
  },
  {
   "cell_type": "code",
   "execution_count": 46,
   "id": "9c15ef58-b6fe-472a-8363-43c38125e683",
   "metadata": {},
   "outputs": [],
   "source": [
    "d16[\"name\"] = \"mohammad adil\""
   ]
  },
  {
   "cell_type": "code",
   "execution_count": 47,
   "id": "a4276aa9-12e3-44e3-b7c6-413d4b6304ae",
   "metadata": {},
   "outputs": [
    {
     "data": {
      "text/plain": [
       "{'batch_name': ['data science', 'python', 'web dev', 'JDS'],\n",
       " 'start_date': (28, 14, 21, 24),\n",
       " 'mentor_name': {'Krish naik', 'anurag', 'navin', 'sudhanshu'},\n",
       " 'timing': (8, 8, 8),\n",
       " 'name': 'mohammad adil'}"
      ]
     },
     "execution_count": 47,
     "metadata": {},
     "output_type": "execute_result"
    }
   ],
   "source": [
    "d16"
   ]
  },
  {
   "cell_type": "code",
   "execution_count": 49,
   "id": "4d777ecc-d1dd-469e-b05a-c0b3793f7e16",
   "metadata": {},
   "outputs": [
    {
     "data": {
      "text/plain": [
       "'MOHAMMAD ADIL'"
      ]
     },
     "execution_count": 49,
     "metadata": {},
     "output_type": "execute_result"
    }
   ],
   "source": [
    "d16['name'].upper()"
   ]
  },
  {
   "cell_type": "code",
   "execution_count": 50,
   "id": "27019161-1a58-46c4-a4c2-40a275e12914",
   "metadata": {},
   "outputs": [
    {
     "data": {
      "text/plain": [
       "{'name': 'adil', 'class': 'data science'}"
      ]
     },
     "execution_count": 50,
     "metadata": {},
     "output_type": "execute_result"
    }
   ],
   "source": [
    "d15[\"key\"]"
   ]
  },
  {
   "cell_type": "code",
   "execution_count": 51,
   "id": "e76a5afc-a36f-4fef-8071-e1adf9b221e9",
   "metadata": {},
   "outputs": [
    {
     "data": {
      "text/plain": [
       "'data science'"
      ]
     },
     "execution_count": 51,
     "metadata": {},
     "output_type": "execute_result"
    }
   ],
   "source": [
    "d15[\"key\"][\"class\"]"
   ]
  },
  {
   "cell_type": "code",
   "execution_count": 52,
   "id": "d9d598cb-a8f1-4ed2-9251-6556a6cb27c0",
   "metadata": {},
   "outputs": [],
   "source": [
    "d15[\"key_1\"] = \"abc\""
   ]
  },
  {
   "cell_type": "code",
   "execution_count": 53,
   "id": "24be1934-e290-4650-be21-64b99629ab03",
   "metadata": {},
   "outputs": [
    {
     "data": {
      "text/plain": [
       "{'key': {'name': 'adil', 'class': 'data science'}, 'key_1': 'abc'}"
      ]
     },
     "execution_count": 53,
     "metadata": {},
     "output_type": "execute_result"
    }
   ],
   "source": [
    "d15"
   ]
  },
  {
   "cell_type": "code",
   "execution_count": 54,
   "id": "bfb72299-10ab-4619-82ab-921dce4fb904",
   "metadata": {},
   "outputs": [],
   "source": [
    "del d15['key_1']"
   ]
  },
  {
   "cell_type": "code",
   "execution_count": 55,
   "id": "60e3ef5b-6d76-478f-ae92-52ddd18312f3",
   "metadata": {},
   "outputs": [
    {
     "data": {
      "text/plain": [
       "{'key': {'name': 'adil', 'class': 'data science'}}"
      ]
     },
     "execution_count": 55,
     "metadata": {},
     "output_type": "execute_result"
    }
   ],
   "source": [
    "d15"
   ]
  },
  {
   "cell_type": "code",
   "execution_count": 58,
   "id": "36de6375-4720-42ed-a985-0aaab6540a63",
   "metadata": {},
   "outputs": [],
   "source": [
    "d15.clear()  # wipe out all data inside dictionary"
   ]
  },
  {
   "cell_type": "code",
   "execution_count": 57,
   "id": "8fe60edd-42e1-4315-bcb6-7ed7eee62398",
   "metadata": {},
   "outputs": [
    {
     "data": {
      "text/plain": [
       "{}"
      ]
     },
     "execution_count": 57,
     "metadata": {},
     "output_type": "execute_result"
    }
   ],
   "source": [
    "d15"
   ]
  },
  {
   "cell_type": "code",
   "execution_count": 60,
   "id": "e8bbd77c-7cbd-4d08-8abb-64f6dbeaa104",
   "metadata": {},
   "outputs": [
    {
     "data": {
      "text/plain": [
       "5"
      ]
     },
     "execution_count": 60,
     "metadata": {},
     "output_type": "execute_result"
    }
   ],
   "source": [
    "len(d16)   # to find total key pair"
   ]
  },
  {
   "cell_type": "code",
   "execution_count": 61,
   "id": "99da2a6e-98ad-43a3-88e9-0c0ebcd91643",
   "metadata": {},
   "outputs": [
    {
     "data": {
      "text/plain": [
       "dict_keys(['batch_name', 'start_date', 'mentor_name', 'timing', 'name'])"
      ]
     },
     "execution_count": 61,
     "metadata": {},
     "output_type": "execute_result"
    }
   ],
   "source": [
    "d16.keys()"
   ]
  },
  {
   "cell_type": "code",
   "execution_count": 62,
   "id": "e298c302-bd81-48dd-a864-d7d00f582141",
   "metadata": {},
   "outputs": [
    {
     "data": {
      "text/plain": [
       "dict_values([['data science', 'python', 'web dev', 'JDS'], (28, 14, 21, 24), {'navin', 'Krish naik', 'sudhanshu', 'anurag'}, (8, 8, 8), 'mohammad adil'])"
      ]
     },
     "execution_count": 62,
     "metadata": {},
     "output_type": "execute_result"
    }
   ],
   "source": [
    "d16.values()"
   ]
  },
  {
   "cell_type": "code",
   "execution_count": 64,
   "id": "35e632ea-3178-4e2d-8ae7-6c9e44ec49e9",
   "metadata": {},
   "outputs": [
    {
     "data": {
      "text/plain": [
       "[['data science', 'python', 'web dev', 'JDS'],\n",
       " (28, 14, 21, 24),\n",
       " {'Krish naik', 'anurag', 'navin', 'sudhanshu'},\n",
       " (8, 8, 8),\n",
       " 'mohammad adil']"
      ]
     },
     "execution_count": 64,
     "metadata": {},
     "output_type": "execute_result"
    }
   ],
   "source": [
    "list(d16.values())"
   ]
  },
  {
   "cell_type": "code",
   "execution_count": 65,
   "id": "3b5d43ee-7612-4c60-931c-ccc62f256823",
   "metadata": {},
   "outputs": [
    {
     "data": {
      "text/plain": [
       "['batch_name', 'start_date', 'mentor_name', 'timing', 'name']"
      ]
     },
     "execution_count": 65,
     "metadata": {},
     "output_type": "execute_result"
    }
   ],
   "source": [
    "list(d16.keys())"
   ]
  },
  {
   "cell_type": "code",
   "execution_count": 68,
   "id": "fa108c7a-c899-4934-905f-21ca85e002dd",
   "metadata": {},
   "outputs": [
    {
     "data": {
      "text/plain": [
       "[('batch_name', ['data science', 'python', 'web dev', 'JDS']),\n",
       " ('start_date', (28, 14, 21, 24)),\n",
       " ('mentor_name', {'Krish naik', 'anurag', 'navin', 'sudhanshu'}),\n",
       " ('timing', (8, 8, 8)),\n",
       " ('name', 'mohammad adil')]"
      ]
     },
     "execution_count": 68,
     "metadata": {},
     "output_type": "execute_result"
    }
   ],
   "source": [
    "list(d16.items())  # to convert into list"
   ]
  },
  {
   "cell_type": "code",
   "execution_count": 69,
   "id": "ce50a902-a389-4b04-b418-ff7065b55d59",
   "metadata": {},
   "outputs": [],
   "source": [
    "d17 = d16.copy()"
   ]
  },
  {
   "cell_type": "code",
   "execution_count": 70,
   "id": "c75ffd5d-d396-4b17-98c6-e04c5e610314",
   "metadata": {},
   "outputs": [
    {
     "data": {
      "text/plain": [
       "{'batch_name': ['data science', 'python', 'web dev', 'JDS'],\n",
       " 'start_date': (28, 14, 21, 24),\n",
       " 'mentor_name': {'Krish naik', 'anurag', 'navin', 'sudhanshu'},\n",
       " 'timing': (8, 8, 8),\n",
       " 'name': 'mohammad adil'}"
      ]
     },
     "execution_count": 70,
     "metadata": {},
     "output_type": "execute_result"
    }
   ],
   "source": [
    "d17"
   ]
  },
  {
   "cell_type": "code",
   "execution_count": 72,
   "id": "8c1faedd-c3fc-4264-b25a-ca503b952693",
   "metadata": {},
   "outputs": [],
   "source": [
    "del d16['name']"
   ]
  },
  {
   "cell_type": "code",
   "execution_count": 73,
   "id": "252eda77-0a5f-4090-bd30-4c1c88e656cd",
   "metadata": {},
   "outputs": [
    {
     "data": {
      "text/plain": [
       "{'batch_name': ['data science', 'python', 'web dev', 'JDS'],\n",
       " 'start_date': (28, 14, 21, 24),\n",
       " 'mentor_name': {'Krish naik', 'anurag', 'navin', 'sudhanshu'},\n",
       " 'timing': (8, 8, 8)}"
      ]
     },
     "execution_count": 73,
     "metadata": {},
     "output_type": "execute_result"
    }
   ],
   "source": [
    "d16"
   ]
  },
  {
   "cell_type": "code",
   "execution_count": 74,
   "id": "56d094c5-af78-494d-9c39-ba4311f8f414",
   "metadata": {},
   "outputs": [
    {
     "data": {
      "text/plain": [
       "{'batch_name': ['data science', 'python', 'web dev', 'JDS'],\n",
       " 'start_date': (28, 14, 21, 24),\n",
       " 'mentor_name': {'Krish naik', 'anurag', 'navin', 'sudhanshu'},\n",
       " 'timing': (8, 8, 8),\n",
       " 'name': 'mohammad adil'}"
      ]
     },
     "execution_count": 74,
     "metadata": {},
     "output_type": "execute_result"
    }
   ],
   "source": [
    "d17"
   ]
  },
  {
   "cell_type": "code",
   "execution_count": 76,
   "id": "c36a6602-3d86-4ea9-b490-60afd945ff54",
   "metadata": {},
   "outputs": [],
   "source": [
    "d18 = d16 # if we change anything in d18 , d16 is also change and vice versa"
   ]
  },
  {
   "cell_type": "code",
   "execution_count": 77,
   "id": "bb44674d-a5d3-4ae9-ae84-974788eda206",
   "metadata": {},
   "outputs": [],
   "source": [
    "# when we copy any data to another new data it copies alll the elements and \n",
    "#if we change anything from older one it will not affect the new one"
   ]
  },
  {
   "cell_type": "code",
   "execution_count": 78,
   "id": "be0f2b83-b639-4b54-b782-b0282f7cc4bc",
   "metadata": {},
   "outputs": [
    {
     "ename": "TypeError",
     "evalue": "pop expected at least 1 argument, got 0",
     "output_type": "error",
     "traceback": [
      "\u001b[0;31m---------------------------------------------------------------------------\u001b[0m",
      "\u001b[0;31mTypeError\u001b[0m                                 Traceback (most recent call last)",
      "Cell \u001b[0;32mIn[78], line 1\u001b[0m\n\u001b[0;32m----> 1\u001b[0m \u001b[43md16\u001b[49m\u001b[38;5;241;43m.\u001b[39;49m\u001b[43mpop\u001b[49m\u001b[43m(\u001b[49m\u001b[43m)\u001b[49m\n",
      "\u001b[0;31mTypeError\u001b[0m: pop expected at least 1 argument, got 0"
     ]
    }
   ],
   "source": [
    "d16.pop()"
   ]
  },
  {
   "cell_type": "code",
   "execution_count": 79,
   "id": "e0f34719-6d7d-47d1-9f1a-42bbfd8e14e9",
   "metadata": {},
   "outputs": [
    {
     "data": {
      "text/plain": [
       "(8, 8, 8)"
      ]
     },
     "execution_count": 79,
     "metadata": {},
     "output_type": "execute_result"
    }
   ],
   "source": [
    "d16.pop('timing')"
   ]
  },
  {
   "cell_type": "code",
   "execution_count": 80,
   "id": "92d5aa54-9d30-4bd4-89c8-c170657732eb",
   "metadata": {},
   "outputs": [
    {
     "data": {
      "text/plain": [
       "{'batch_name': ['data science', 'python', 'web dev', 'JDS'],\n",
       " 'start_date': (28, 14, 21, 24),\n",
       " 'mentor_name': {'Krish naik', 'anurag', 'navin', 'sudhanshu'}}"
      ]
     },
     "execution_count": 80,
     "metadata": {},
     "output_type": "execute_result"
    }
   ],
   "source": [
    "d16"
   ]
  },
  {
   "cell_type": "code",
   "execution_count": 81,
   "id": "e9aca6ef-d8c9-43db-8c28-583b04ad3693",
   "metadata": {},
   "outputs": [
    {
     "data": {
      "text/plain": [
       "{'Krish naik', 'anurag', 'navin', 'sudhanshu'}"
      ]
     },
     "execution_count": 81,
     "metadata": {},
     "output_type": "execute_result"
    }
   ],
   "source": [
    "d16.pop('mentor_name')"
   ]
  },
  {
   "cell_type": "code",
   "execution_count": 82,
   "id": "24f13c71-103d-40c6-8066-ddb55c43b2b7",
   "metadata": {},
   "outputs": [
    {
     "data": {
      "text/plain": [
       "{'batch_name': ['data science', 'python', 'web dev', 'JDS'],\n",
       " 'start_date': (28, 14, 21, 24)}"
      ]
     },
     "execution_count": 82,
     "metadata": {},
     "output_type": "execute_result"
    }
   ],
   "source": [
    "d16"
   ]
  },
  {
   "cell_type": "code",
   "execution_count": 83,
   "id": "299d7913-9d15-4a56-adef-80c74474c32f",
   "metadata": {},
   "outputs": [
    {
     "data": {
      "text/plain": [
       "{1: ('a', 'b', 'c'), 2: ('a', 'b', 'c'), 3: ('a', 'b', 'c')}"
      ]
     },
     "execution_count": 83,
     "metadata": {},
     "output_type": "execute_result"
    }
   ],
   "source": [
    "d.fromkeys((1,2,3) , ('a' , 'b' , 'c'))"
   ]
  },
  {
   "cell_type": "code",
   "execution_count": 84,
   "id": "7db17e6a-9dde-4503-92ad-5cf339a948bd",
   "metadata": {},
   "outputs": [],
   "source": [
    "d19 = {\"key\" : \"value\" , \"key1\" : \"value1\"}\n",
    "d20 = {\"key2\" : \"value2\" , \"key3\" : \"value3\"}"
   ]
  },
  {
   "cell_type": "code",
   "execution_count": 85,
   "id": "6f77e1ec-3b72-4c5a-b664-4d206572b573",
   "metadata": {},
   "outputs": [
    {
     "data": {
      "text/plain": [
       "({'key': 'value', 'key1': 'value1'}, {'key2': 'value2', 'key3': 'value3'})"
      ]
     },
     "execution_count": 85,
     "metadata": {},
     "output_type": "execute_result"
    }
   ],
   "source": [
    "(d19,d20)"
   ]
  },
  {
   "cell_type": "code",
   "execution_count": 89,
   "id": "12621d13-99c2-40ae-a1f8-115ac701f9fd",
   "metadata": {},
   "outputs": [],
   "source": [
    "d19.update(d20)   # copy d20 item with d19"
   ]
  },
  {
   "cell_type": "code",
   "execution_count": 90,
   "id": "5385f484-350e-465d-abfd-bf00d221e2c9",
   "metadata": {},
   "outputs": [
    {
     "data": {
      "text/plain": [
       "{'key': 'value', 'key1': 'value1', 'key2': 'value2', 'key3': 'value3'}"
      ]
     },
     "execution_count": 90,
     "metadata": {},
     "output_type": "execute_result"
    }
   ],
   "source": [
    "d19"
   ]
  },
  {
   "cell_type": "code",
   "execution_count": 91,
   "id": "27da2877-3daf-410e-b991-54f021124f24",
   "metadata": {},
   "outputs": [
    {
     "data": {
      "text/plain": [
       "{'key2': 'value2', 'key3': 'value3'}"
      ]
     },
     "execution_count": 91,
     "metadata": {},
     "output_type": "execute_result"
    }
   ],
   "source": [
    "d20"
   ]
  },
  {
   "cell_type": "code",
   "execution_count": 92,
   "id": "00c3ffcb-380c-4bb7-ba61-41633953c9da",
   "metadata": {},
   "outputs": [],
   "source": [
    "d20.update(d19)"
   ]
  },
  {
   "cell_type": "code",
   "execution_count": 93,
   "id": "e40f724c-215f-416a-85d2-d125d4b24f59",
   "metadata": {},
   "outputs": [
    {
     "data": {
      "text/plain": [
       "{'key2': 'value2', 'key3': 'value3', 'key': 'value', 'key1': 'value1'}"
      ]
     },
     "execution_count": 93,
     "metadata": {},
     "output_type": "execute_result"
    }
   ],
   "source": [
    "d20"
   ]
  },
  {
   "cell_type": "code",
   "execution_count": 94,
   "id": "3d3dfde0-da1a-4e1d-b6c3-483863f18f37",
   "metadata": {},
   "outputs": [],
   "source": [
    "d20.get(\"adil\")"
   ]
  },
  {
   "cell_type": "code",
   "execution_count": 95,
   "id": "c8623afb-38e2-4114-bf98-60494ba03a51",
   "metadata": {},
   "outputs": [
    {
     "data": {
      "text/plain": [
       "'value3'"
      ]
     },
     "execution_count": 95,
     "metadata": {},
     "output_type": "execute_result"
    }
   ],
   "source": [
    "d20.get(\"key3\")"
   ]
  },
  {
   "cell_type": "code",
   "execution_count": 99,
   "id": "22105862-b3c3-49b0-8f41-680b1a5e9393",
   "metadata": {},
   "outputs": [
    {
     "ename": "KeyError",
     "evalue": "'adil'",
     "output_type": "error",
     "traceback": [
      "\u001b[0;31m---------------------------------------------------------------------------\u001b[0m",
      "\u001b[0;31mKeyError\u001b[0m                                  Traceback (most recent call last)",
      "Cell \u001b[0;32mIn[99], line 1\u001b[0m\n\u001b[0;32m----> 1\u001b[0m \u001b[43md20\u001b[49m\u001b[43m[\u001b[49m\u001b[38;5;124;43m\"\u001b[39;49m\u001b[38;5;124;43madil\u001b[39;49m\u001b[38;5;124;43m\"\u001b[39;49m\u001b[43m]\u001b[49m  \u001b[38;5;66;03m# this gives error while get not gives error if it is not in dic\u001b[39;00m\n",
      "\u001b[0;31mKeyError\u001b[0m: 'adil'"
     ]
    }
   ],
   "source": [
    "d20[\"adil\"]  # this gives error while get not gives error if it is not in dic"
   ]
  },
  {
   "cell_type": "markdown",
   "id": "237e7753-cc33-45b7-acb7-34a1e4b37973",
   "metadata": {},
   "source": [
    "Dictionary Comprehension"
   ]
  },
  {
   "cell_type": "code",
   "execution_count": 98,
   "id": "ffb6aacb-d881-432f-a72c-ef3fd59c3884",
   "metadata": {},
   "outputs": [
    {
     "data": {
      "text/plain": [
       "{1: 1, 2: 4, 3: 9, 4: 16, 5: 25, 6: 36, 7: 49, 8: 64, 9: 81, 10: 100}"
      ]
     },
     "execution_count": 98,
     "metadata": {},
     "output_type": "execute_result"
    }
   ],
   "source": [
    "{i : i**2 for i in range(1,11)}"
   ]
  },
  {
   "cell_type": "code",
   "execution_count": 101,
   "id": "3a053ab0-278c-4f2e-8b48-13adb00795b2",
   "metadata": {},
   "outputs": [],
   "source": [
    "import math\n",
    "d21 = {i : math.log10 (i) for i in range(1,11)}"
   ]
  },
  {
   "cell_type": "code",
   "execution_count": 102,
   "id": "575824a4-8685-4e70-a0c3-b90cf3b6c16c",
   "metadata": {},
   "outputs": [
    {
     "data": {
      "text/plain": [
       "{1: 0.0,\n",
       " 2: 0.3010299956639812,\n",
       " 3: 0.47712125471966244,\n",
       " 4: 0.6020599913279624,\n",
       " 5: 0.6989700043360189,\n",
       " 6: 0.7781512503836436,\n",
       " 7: 0.8450980400142568,\n",
       " 8: 0.9030899869919435,\n",
       " 9: 0.9542425094393249,\n",
       " 10: 1.0}"
      ]
     },
     "execution_count": 102,
     "metadata": {},
     "output_type": "execute_result"
    }
   ],
   "source": [
    "d21"
   ]
  },
  {
   "cell_type": "code",
   "execution_count": 106,
   "id": "c37c6673-7e36-4ef8-9fcd-54280829e9bb",
   "metadata": {},
   "outputs": [
    {
     "data": {
      "text/plain": [
       "{2: 0.3010299956639812,\n",
       " 4: 0.6020599913279624,\n",
       " 6: 0.7781512503836436,\n",
       " 8: 0.9030899869919435,\n",
       " 10: 1.0}"
      ]
     },
     "execution_count": 106,
     "metadata": {},
     "output_type": "execute_result"
    }
   ],
   "source": [
    "{i : d21[i]  for i in d21 if i%2==0}"
   ]
  },
  {
   "cell_type": "code",
   "execution_count": null,
   "id": "f1616685-51ab-4b29-9b60-1ab6166fad63",
   "metadata": {},
   "outputs": [],
   "source": []
  }
 ],
 "metadata": {
  "kernelspec": {
   "display_name": "Python 3 (ipykernel)",
   "language": "python",
   "name": "python3"
  },
  "language_info": {
   "codemirror_mode": {
    "name": "ipython",
    "version": 3
   },
   "file_extension": ".py",
   "mimetype": "text/x-python",
   "name": "python",
   "nbconvert_exporter": "python",
   "pygments_lexer": "ipython3",
   "version": "3.10.8"
  }
 },
 "nbformat": 4,
 "nbformat_minor": 5
}
