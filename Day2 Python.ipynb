{
 "cells": [
  {
   "cell_type": "markdown",
   "id": "46c85692-abb2-4f6d-88ac-22cfacf45ce7",
   "metadata": {
    "tags": []
   },
   "source": [
    "## Logical operators"
   ]
  },
  {
   "cell_type": "code",
   "execution_count": 6,
   "id": "c7e82319-d1d2-47de-9086-cefbb6290c0c",
   "metadata": {},
   "outputs": [
    {
     "data": {
      "text/plain": [
       "True"
      ]
     },
     "execution_count": 6,
     "metadata": {},
     "output_type": "execute_result"
    }
   ],
   "source": [
    "True and True"
   ]
  },
  {
   "cell_type": "code",
   "execution_count": 7,
   "id": "45f6c5b4-94d8-4204-b179-199d4e76b5db",
   "metadata": {},
   "outputs": [
    {
     "data": {
      "text/plain": [
       "False"
      ]
     },
     "execution_count": 7,
     "metadata": {},
     "output_type": "execute_result"
    }
   ],
   "source": [
    "True and False"
   ]
  },
  {
   "cell_type": "code",
   "execution_count": 8,
   "id": "936a3de9-35d5-4207-96c3-f01f66e302ed",
   "metadata": {},
   "outputs": [
    {
     "data": {
      "text/plain": [
       "False"
      ]
     },
     "execution_count": 8,
     "metadata": {},
     "output_type": "execute_result"
    }
   ],
   "source": [
    "False and True"
   ]
  },
  {
   "cell_type": "code",
   "execution_count": 10,
   "id": "e1b76aa9-4452-4b8e-a4bf-b6327f3f06af",
   "metadata": {},
   "outputs": [
    {
     "data": {
      "text/plain": [
       "False"
      ]
     },
     "execution_count": 10,
     "metadata": {},
     "output_type": "execute_result"
    }
   ],
   "source": [
    "not 1"
   ]
  },
  {
   "cell_type": "code",
   "execution_count": 11,
   "id": "ba3d1248-2960-4112-9855-efe8a18089b7",
   "metadata": {},
   "outputs": [
    {
     "data": {
      "text/plain": [
       "True"
      ]
     },
     "execution_count": 11,
     "metadata": {},
     "output_type": "execute_result"
    }
   ],
   "source": [
    "not 0"
   ]
  },
  {
   "cell_type": "code",
   "execution_count": 14,
   "id": "fa51dda1-cc4a-4ccf-a675-30f1497379eb",
   "metadata": {},
   "outputs": [
    {
     "data": {
      "text/plain": [
       "False"
      ]
     },
     "execution_count": 14,
     "metadata": {},
     "output_type": "execute_result"
    }
   ],
   "source": [
    " not int(bool(1))"
   ]
  },
  {
   "cell_type": "code",
   "execution_count": 15,
   "id": "e28425ea-a497-4f4f-a0f3-d830ca0fbd4c",
   "metadata": {},
   "outputs": [
    {
     "data": {
      "text/plain": [
       "True"
      ]
     },
     "execution_count": 15,
     "metadata": {},
     "output_type": "execute_result"
    }
   ],
   "source": [
    " not int(bool(0))"
   ]
  },
  {
   "cell_type": "code",
   "execution_count": 16,
   "id": "219125d6-bef3-41dc-807c-ebc16e4e11c4",
   "metadata": {},
   "outputs": [
    {
     "data": {
      "text/plain": [
       "True"
      ]
     },
     "execution_count": 16,
     "metadata": {},
     "output_type": "execute_result"
    }
   ],
   "source": [
    "bool(-5)"
   ]
  },
  {
   "cell_type": "code",
   "execution_count": 17,
   "id": "cb2bb8ee-975f-48e7-aac9-42a557d3bb00",
   "metadata": {},
   "outputs": [
    {
     "data": {
      "text/plain": [
       "False"
      ]
     },
     "execution_count": 17,
     "metadata": {},
     "output_type": "execute_result"
    }
   ],
   "source": [
    "not True"
   ]
  },
  {
   "cell_type": "code",
   "execution_count": 18,
   "id": "c92d5bb3-1ad4-4c45-86ea-de0e43691a2d",
   "metadata": {},
   "outputs": [
    {
     "data": {
      "text/plain": [
       "True"
      ]
     },
     "execution_count": 18,
     "metadata": {},
     "output_type": "execute_result"
    }
   ],
   "source": [
    "bool(5.9)"
   ]
  },
  {
   "cell_type": "code",
   "execution_count": 19,
   "id": "aa14fe27-8bd7-478d-9f7e-75714e0406a8",
   "metadata": {},
   "outputs": [],
   "source": [
    "# Logical And"
   ]
  },
  {
   "cell_type": "code",
   "execution_count": 20,
   "id": "37ee4052-c739-4616-b31a-0faab93d61d8",
   "metadata": {},
   "outputs": [
    {
     "data": {
      "text/plain": [
       "0"
      ]
     },
     "execution_count": 20,
     "metadata": {},
     "output_type": "execute_result"
    }
   ],
   "source": [
    "True * False"
   ]
  },
  {
   "cell_type": "code",
   "execution_count": 21,
   "id": "7e293919-1134-4646-a77f-fe5b40d560c7",
   "metadata": {},
   "outputs": [
    {
     "data": {
      "text/plain": [
       "1"
      ]
     },
     "execution_count": 21,
     "metadata": {},
     "output_type": "execute_result"
    }
   ],
   "source": [
    "True * True"
   ]
  },
  {
   "cell_type": "code",
   "execution_count": 23,
   "id": "89e63885-6401-46ca-ac7d-252338447b7e",
   "metadata": {},
   "outputs": [
    {
     "data": {
      "text/plain": [
       "True"
      ]
     },
     "execution_count": 23,
     "metadata": {},
     "output_type": "execute_result"
    }
   ],
   "source": [
    "not False * False"
   ]
  },
  {
   "cell_type": "code",
   "execution_count": 24,
   "id": "442abc27-2654-4767-ac0a-ac53e562c68c",
   "metadata": {},
   "outputs": [
    {
     "data": {
      "text/plain": [
       "True"
      ]
     },
     "execution_count": 24,
     "metadata": {},
     "output_type": "execute_result"
    }
   ],
   "source": [
    "not (False * False)"
   ]
  },
  {
   "cell_type": "code",
   "execution_count": 25,
   "id": "2c145976-a892-4d6b-a43f-b03170363418",
   "metadata": {},
   "outputs": [
    {
     "data": {
      "text/plain": [
       "True"
      ]
     },
     "execution_count": 25,
     "metadata": {},
     "output_type": "execute_result"
    }
   ],
   "source": [
    "not False * True"
   ]
  },
  {
   "cell_type": "code",
   "execution_count": 26,
   "id": "640e89c5-1b5a-47be-afdf-c7ce36af69f0",
   "metadata": {},
   "outputs": [
    {
     "data": {
      "text/plain": [
       "0"
      ]
     },
     "execution_count": 26,
     "metadata": {},
     "output_type": "execute_result"
    }
   ],
   "source": [
    "True * False"
   ]
  },
  {
   "cell_type": "code",
   "execution_count": 27,
   "id": "8d7ab66d-9c59-4670-9b7a-2f192aa9ad2e",
   "metadata": {},
   "outputs": [
    {
     "data": {
      "text/plain": [
       "False"
      ]
     },
     "execution_count": 27,
     "metadata": {},
     "output_type": "execute_result"
    }
   ],
   "source": [
    "not True * True"
   ]
  },
  {
   "cell_type": "code",
   "execution_count": 28,
   "id": "4ad8198b-8841-484e-ad49-76a55fbb20da",
   "metadata": {},
   "outputs": [],
   "source": [
    "lst_1=[1,2,3,4]\n",
    "lst_2=[1,2,3,4]"
   ]
  },
  {
   "cell_type": "code",
   "execution_count": 31,
   "id": "0b0eb3aa-f4a5-4610-a7ec-e5dbd30ef8dc",
   "metadata": {},
   "outputs": [
    {
     "name": "stdout",
     "output_type": "stream",
     "text": [
      "128851383643136\n",
      "128851384049920\n"
     ]
    }
   ],
   "source": [
    "print(id(lst_1))\n",
    "print(id(lst_2))"
   ]
  },
  {
   "cell_type": "code",
   "execution_count": 33,
   "id": "d505c789-9969-45e9-a869-8ce85306d5a9",
   "metadata": {},
   "outputs": [
    {
     "data": {
      "text/plain": [
       "False"
      ]
     },
     "execution_count": 33,
     "metadata": {},
     "output_type": "execute_result"
    }
   ],
   "source": [
    "lst_1 is lst_2 # bcz it has different memory address"
   ]
  },
  {
   "cell_type": "code",
   "execution_count": 40,
   "id": "384a8f38-0f1b-40bc-86ed-14242a4f280d",
   "metadata": {},
   "outputs": [],
   "source": [
    "lst_a=[1,2,3]\n",
    "lst_b=lst_a"
   ]
  },
  {
   "cell_type": "code",
   "execution_count": 41,
   "id": "96728bfb-399b-4ca0-8831-a3ed65e442e0",
   "metadata": {},
   "outputs": [
    {
     "data": {
      "text/plain": [
       "True"
      ]
     },
     "execution_count": 41,
     "metadata": {},
     "output_type": "execute_result"
    }
   ],
   "source": [
    "lst_a is lst_b"
   ]
  },
  {
   "cell_type": "code",
   "execution_count": 42,
   "id": "d0742f01-e020-4c93-9aef-61851cba14a0",
   "metadata": {},
   "outputs": [
    {
     "data": {
      "text/plain": [
       "[1, 2, 3, 4]"
      ]
     },
     "execution_count": 42,
     "metadata": {},
     "output_type": "execute_result"
    }
   ],
   "source": [
    "lst_1"
   ]
  },
  {
   "cell_type": "code",
   "execution_count": 43,
   "id": "b2ec7220-9f9e-4e5b-8202-4b93d4ce5de8",
   "metadata": {},
   "outputs": [
    {
     "data": {
      "text/plain": [
       "True"
      ]
     },
     "execution_count": 43,
     "metadata": {},
     "output_type": "execute_result"
    }
   ],
   "source": [
    "lst_1==lst_2  # it compare the element of both lists"
   ]
  },
  {
   "cell_type": "code",
   "execution_count": 44,
   "id": "deada7f4-080d-423b-a2e0-65b70041543e",
   "metadata": {},
   "outputs": [
    {
     "data": {
      "text/plain": [
       "True"
      ]
     },
     "execution_count": 44,
     "metadata": {},
     "output_type": "execute_result"
    }
   ],
   "source": [
    "lst_1 is not lst_2"
   ]
  },
  {
   "cell_type": "code",
   "execution_count": 45,
   "id": "8e353cad-3518-47d4-880d-924754f57eba",
   "metadata": {},
   "outputs": [],
   "source": [
    "a=2\n",
    "b=2"
   ]
  },
  {
   "cell_type": "code",
   "execution_count": 46,
   "id": "bbbc16f8-4486-415f-8216-11ae31d6d9b9",
   "metadata": {},
   "outputs": [
    {
     "name": "stdout",
     "output_type": "stream",
     "text": [
      "128851732218128\n",
      "128851732218128\n"
     ]
    }
   ],
   "source": [
    "print(id(a))\n",
    "print(id(b))"
   ]
  },
  {
   "cell_type": "code",
   "execution_count": 47,
   "id": "389180d1-f1cb-4aa6-b38d-1bf5639b4530",
   "metadata": {},
   "outputs": [],
   "source": [
    "str_1=\"Adil\"\n",
    "str_2=\"Adil\""
   ]
  },
  {
   "cell_type": "code",
   "execution_count": 48,
   "id": "1c22669b-c8f2-45d2-91e5-b12c6dd045da",
   "metadata": {},
   "outputs": [
    {
     "name": "stdout",
     "output_type": "stream",
     "text": [
      "128851382959344\n",
      "128851382959344\n"
     ]
    }
   ],
   "source": [
    "print(id(str_1))\n",
    "print(id(str_2))"
   ]
  },
  {
   "cell_type": "code",
   "execution_count": 49,
   "id": "64523a2c-ced0-4680-98d3-faabd13c86d8",
   "metadata": {},
   "outputs": [],
   "source": [
    "a=(1,2,3,4)\n",
    "b=(1,2,3,4)"
   ]
  },
  {
   "cell_type": "code",
   "execution_count": 50,
   "id": "ae8f2955-ae0a-4e81-8cc6-cb8386e70693",
   "metadata": {},
   "outputs": [
    {
     "name": "stdout",
     "output_type": "stream",
     "text": [
      "128851378395136\n",
      "128851378395056\n"
     ]
    }
   ],
   "source": [
    "print(id(a))\n",
    "print(id(b))"
   ]
  },
  {
   "cell_type": "markdown",
   "id": "89f2ee1c-1f2d-46fb-b19f-031e55d44191",
   "metadata": {
    "tags": []
   },
   "source": [
    "## Arithmatic operation"
   ]
  },
  {
   "cell_type": "code",
   "execution_count": 51,
   "id": "0edad139-c77f-4d6e-83d4-c5e2f129b690",
   "metadata": {},
   "outputs": [],
   "source": [
    "a=25\n",
    "b=101"
   ]
  },
  {
   "cell_type": "code",
   "execution_count": 52,
   "id": "aba297b5-aab2-4acf-952d-c5e1b0617c77",
   "metadata": {},
   "outputs": [
    {
     "data": {
      "text/plain": [
       "2525"
      ]
     },
     "execution_count": 52,
     "metadata": {},
     "output_type": "execute_result"
    }
   ],
   "source": [
    "b*a"
   ]
  },
  {
   "cell_type": "code",
   "execution_count": 53,
   "id": "d263c393-a501-4200-8aa4-dd316c7b7d53",
   "metadata": {},
   "outputs": [
    {
     "data": {
      "text/plain": [
       "126"
      ]
     },
     "execution_count": 53,
     "metadata": {},
     "output_type": "execute_result"
    }
   ],
   "source": [
    "b+a"
   ]
  },
  {
   "cell_type": "code",
   "execution_count": 54,
   "id": "1a0f6ccf-ace7-4acd-bdba-ed46183e5187",
   "metadata": {},
   "outputs": [
    {
     "data": {
      "text/plain": [
       "4.04"
      ]
     },
     "execution_count": 54,
     "metadata": {},
     "output_type": "execute_result"
    }
   ],
   "source": [
    "b/a"
   ]
  },
  {
   "cell_type": "code",
   "execution_count": 55,
   "id": "4971d48e-4076-4af6-bbef-5f27b324d75a",
   "metadata": {},
   "outputs": [
    {
     "data": {
      "text/plain": [
       "0.24752475247524752"
      ]
     },
     "execution_count": 55,
     "metadata": {},
     "output_type": "execute_result"
    }
   ],
   "source": [
    "a/b"
   ]
  },
  {
   "cell_type": "code",
   "execution_count": 56,
   "id": "0d78f0a6-f1fd-4ce3-9917-7c57492eb60f",
   "metadata": {},
   "outputs": [
    {
     "data": {
      "text/plain": [
       "0"
      ]
     },
     "execution_count": 56,
     "metadata": {},
     "output_type": "execute_result"
    }
   ],
   "source": [
    "a//b"
   ]
  },
  {
   "cell_type": "code",
   "execution_count": 57,
   "id": "4c1b8b25-4e96-4539-bcd6-a0c4e248422e",
   "metadata": {},
   "outputs": [
    {
     "data": {
      "text/plain": [
       "4"
      ]
     },
     "execution_count": 57,
     "metadata": {},
     "output_type": "execute_result"
    }
   ],
   "source": [
    "b//a"
   ]
  },
  {
   "cell_type": "code",
   "execution_count": 58,
   "id": "99e2def4-6d36-4d25-b14a-b7cd2248be11",
   "metadata": {},
   "outputs": [
    {
     "data": {
      "text/plain": [
       "1"
      ]
     },
     "execution_count": 58,
     "metadata": {},
     "output_type": "execute_result"
    }
   ],
   "source": [
    "b%a"
   ]
  },
  {
   "cell_type": "code",
   "execution_count": 59,
   "id": "807ca674-4e59-46d6-b94e-57b43a2d415d",
   "metadata": {},
   "outputs": [
    {
     "data": {
      "text/plain": [
       "25"
      ]
     },
     "execution_count": 59,
     "metadata": {},
     "output_type": "execute_result"
    }
   ],
   "source": [
    "a%b"
   ]
  },
  {
   "cell_type": "markdown",
   "id": "ae564aa6-0e69-4849-8c59-6157165c7af0",
   "metadata": {
    "tags": []
   },
   "source": [
    "## Bitwise operators"
   ]
  },
  {
   "cell_type": "code",
   "execution_count": 61,
   "id": "78bc6685-1787-45d4-ab4b-f3beac539e53",
   "metadata": {},
   "outputs": [
    {
     "data": {
      "text/plain": [
       "'0b10'"
      ]
     },
     "execution_count": 61,
     "metadata": {},
     "output_type": "execute_result"
    }
   ],
   "source": [
    "bin(2)"
   ]
  },
  {
   "cell_type": "code",
   "execution_count": 62,
   "id": "534b4f86-38ec-4c91-83d0-bc4587ab3953",
   "metadata": {},
   "outputs": [
    {
     "data": {
      "text/plain": [
       "'0b1010'"
      ]
     },
     "execution_count": 62,
     "metadata": {},
     "output_type": "execute_result"
    }
   ],
   "source": [
    "var=10\n",
    "bin(var)"
   ]
  },
  {
   "cell_type": "code",
   "execution_count": 63,
   "id": "d0296343-e245-4ba3-a18f-a526cc0c90d2",
   "metadata": {},
   "outputs": [],
   "source": [
    "# ~ bitwise compliment"
   ]
  },
  {
   "cell_type": "code",
   "execution_count": 64,
   "id": "c398fb11-92cf-49f3-982b-2f04e791a88e",
   "metadata": {},
   "outputs": [
    {
     "data": {
      "text/plain": [
       "-11"
      ]
     },
     "execution_count": 64,
     "metadata": {},
     "output_type": "execute_result"
    }
   ],
   "source": [
    "~var"
   ]
  },
  {
   "cell_type": "code",
   "execution_count": 65,
   "id": "2a2d1f2c-43f7-4d11-abe0-90c3ce436010",
   "metadata": {},
   "outputs": [],
   "source": [
    "var_1=-11"
   ]
  },
  {
   "cell_type": "code",
   "execution_count": 66,
   "id": "7c9b26c7-7da9-4660-8859-83418240da16",
   "metadata": {},
   "outputs": [
    {
     "data": {
      "text/plain": [
       "10"
      ]
     },
     "execution_count": 66,
     "metadata": {},
     "output_type": "execute_result"
    }
   ],
   "source": [
    "~var_1"
   ]
  },
  {
   "cell_type": "markdown",
   "id": "8379d80f-8143-455a-8507-4ef92d305db1",
   "metadata": {
    "tags": []
   },
   "source": [
    "## Strings"
   ]
  },
  {
   "cell_type": "code",
   "execution_count": 82,
   "id": "4b63b36c-77a6-4e57-9cb1-29e8d4122d42",
   "metadata": {},
   "outputs": [
    {
     "data": {
      "text/plain": [
       "'Welcome to the Python world'"
      ]
     },
     "execution_count": 82,
     "metadata": {},
     "output_type": "execute_result"
    }
   ],
   "source": [
    "\"Welcome to the Python world\""
   ]
  },
  {
   "cell_type": "code",
   "execution_count": 60,
   "id": "22f37765-c882-4fb2-a573-e4a04e97bf50",
   "metadata": {},
   "outputs": [],
   "source": [
    "str_1=\"Adil\""
   ]
  },
  {
   "cell_type": "code",
   "execution_count": 61,
   "id": "0d9b4da8-fa3c-42e8-aa1c-e4b3ce2f607a",
   "metadata": {},
   "outputs": [
    {
     "name": "stdout",
     "output_type": "stream",
     "text": [
      "A d i l "
     ]
    }
   ],
   "source": [
    "for i in str_1:\n",
    "    print(i,end=\" \")"
   ]
  },
  {
   "cell_type": "code",
   "execution_count": 3,
   "id": "00304454-968c-4c9f-94e4-c93fbc305a76",
   "metadata": {},
   "outputs": [],
   "source": [
    "string=\"PW Skills Data Science\""
   ]
  },
  {
   "cell_type": "code",
   "execution_count": 4,
   "id": "489c8d84-778f-47e3-8fba-922d198a2f80",
   "metadata": {},
   "outputs": [
    {
     "data": {
      "text/plain": [
       "'e'"
      ]
     },
     "execution_count": 4,
     "metadata": {},
     "output_type": "execute_result"
    }
   ],
   "source": [
    "string[-1]"
   ]
  },
  {
   "cell_type": "code",
   "execution_count": 6,
   "id": "d8f5dba4-6735-4dfd-930d-10651795e0ac",
   "metadata": {},
   "outputs": [
    {
     "data": {
      "text/plain": [
       "'Skills Data '"
      ]
     },
     "execution_count": 6,
     "metadata": {},
     "output_type": "execute_result"
    }
   ],
   "source": [
    "string[3:15]"
   ]
  },
  {
   "cell_type": "code",
   "execution_count": 8,
   "id": "88c020c5-ac21-46f1-b619-f5b573e05c10",
   "metadata": {},
   "outputs": [
    {
     "data": {
      "text/plain": [
       "'Science'"
      ]
     },
     "execution_count": 8,
     "metadata": {},
     "output_type": "execute_result"
    }
   ],
   "source": [
    "string[-7:]"
   ]
  },
  {
   "cell_type": "code",
   "execution_count": 9,
   "id": "6b53030c-0769-4482-9715-9d094a5d8a80",
   "metadata": {},
   "outputs": [
    {
     "data": {
      "text/plain": [
       "'Scie'"
      ]
     },
     "execution_count": 9,
     "metadata": {},
     "output_type": "execute_result"
    }
   ],
   "source": [
    "string[-7:-3]"
   ]
  },
  {
   "cell_type": "code",
   "execution_count": 10,
   "id": "6b4ebce6-77c6-4c7b-8fb9-3f68d3daa996",
   "metadata": {},
   "outputs": [
    {
     "data": {
      "text/plain": [
       "''"
      ]
     },
     "execution_count": 10,
     "metadata": {},
     "output_type": "execute_result"
    }
   ],
   "source": [
    "string[-7:3]"
   ]
  },
  {
   "cell_type": "code",
   "execution_count": 11,
   "id": "a565c50b-986d-441d-8105-7330ba435e76",
   "metadata": {},
   "outputs": [
    {
     "data": {
      "text/plain": [
       "'PW Skills Data Scienc'"
      ]
     },
     "execution_count": 11,
     "metadata": {},
     "output_type": "execute_result"
    }
   ],
   "source": [
    "string[:-1]  # Read everything except last character"
   ]
  },
  {
   "cell_type": "code",
   "execution_count": 12,
   "id": "fc228b65-6d1a-43ff-8882-f082f419c8b2",
   "metadata": {},
   "outputs": [
    {
     "data": {
      "text/plain": [
       "'PW Skills Data Science'"
      ]
     },
     "execution_count": 12,
     "metadata": {},
     "output_type": "execute_result"
    }
   ],
   "source": [
    "string[:]"
   ]
  },
  {
   "cell_type": "code",
   "execution_count": 13,
   "id": "7092ab3e-4ce1-41a5-9be8-6815537cb569",
   "metadata": {},
   "outputs": [],
   "source": [
    "name=\"Adil\""
   ]
  },
  {
   "cell_type": "code",
   "execution_count": 15,
   "id": "acb44d24-0553-46ce-b7af-b65900500a28",
   "metadata": {},
   "outputs": [
    {
     "data": {
      "text/plain": [
       "'dil'"
      ]
     },
     "execution_count": 15,
     "metadata": {},
     "output_type": "execute_result"
    }
   ],
   "source": [
    "name[-3:4]"
   ]
  },
  {
   "cell_type": "code",
   "execution_count": 16,
   "id": "e72c5942-e123-4447-8e9c-465b027a708c",
   "metadata": {},
   "outputs": [
    {
     "data": {
      "text/plain": [
       "'PW Skills Data Science'"
      ]
     },
     "execution_count": 16,
     "metadata": {},
     "output_type": "execute_result"
    }
   ],
   "source": [
    "string"
   ]
  },
  {
   "cell_type": "code",
   "execution_count": 18,
   "id": "3a505952-4a5f-4077-8815-26741cfa566d",
   "metadata": {},
   "outputs": [
    {
     "data": {
      "text/plain": [
       "'ecneicS ataD sllikS WP'"
      ]
     },
     "execution_count": 18,
     "metadata": {},
     "output_type": "execute_result"
    }
   ],
   "source": [
    "string[::-1]   # :: -1 is used for reverse anything"
   ]
  },
  {
   "cell_type": "code",
   "execution_count": 20,
   "id": "c38485d3-1798-4df2-970f-377da0c15540",
   "metadata": {},
   "outputs": [
    {
     "data": {
      "text/plain": [
       "'llikS WP'"
      ]
     },
     "execution_count": 20,
     "metadata": {},
     "output_type": "execute_result"
    }
   ],
   "source": [
    "string[7::-1]  # it only display 7 number"
   ]
  },
  {
   "cell_type": "code",
   "execution_count": 22,
   "id": "031e4db1-de35-47bb-808d-8d98fe7c0d68",
   "metadata": {},
   "outputs": [
    {
     "data": {
      "text/plain": [
       "'eeSt lSP'"
      ]
     },
     "execution_count": 22,
     "metadata": {},
     "output_type": "execute_result"
    }
   ],
   "source": [
    "string[::-3]   # it will display every 3rd element"
   ]
  },
  {
   "cell_type": "code",
   "execution_count": 23,
   "id": "e7770d08-69a7-4fed-bb2c-f7b1d9c6a619",
   "metadata": {},
   "outputs": [],
   "source": [
    "name=\"Kerala\""
   ]
  },
  {
   "cell_type": "code",
   "execution_count": 26,
   "id": "e7179949-2a57-447c-a539-817e4b94d0c3",
   "metadata": {},
   "outputs": [
    {
     "data": {
      "text/plain": [
       "'areK'"
      ]
     },
     "execution_count": 26,
     "metadata": {},
     "output_type": "execute_result"
    }
   ],
   "source": [
    "name[3::-1]"
   ]
  },
  {
   "cell_type": "code",
   "execution_count": 28,
   "id": "4e3610f4-14b3-4844-8046-86913febfb83",
   "metadata": {},
   "outputs": [
    {
     "data": {
      "text/plain": [
       "'ala'"
      ]
     },
     "execution_count": 28,
     "metadata": {},
     "output_type": "execute_result"
    }
   ],
   "source": [
    "name[3::1]"
   ]
  },
  {
   "cell_type": "code",
   "execution_count": 30,
   "id": "2b8e2d1c-9101-4396-b97d-bc5772beb5ab",
   "metadata": {},
   "outputs": [
    {
     "data": {
      "text/plain": [
       "'ar'"
      ]
     },
     "execution_count": 30,
     "metadata": {},
     "output_type": "execute_result"
    }
   ],
   "source": [
    "name[3:1:-1]"
   ]
  },
  {
   "cell_type": "code",
   "execution_count": 31,
   "id": "352ef21a-22f0-4104-9a76-daadcb132e47",
   "metadata": {},
   "outputs": [],
   "source": [
    "course_name=\"Data Science Masters\""
   ]
  },
  {
   "cell_type": "code",
   "execution_count": 32,
   "id": "720c7812-74ac-4080-9055-c1e72f464fba",
   "metadata": {},
   "outputs": [
    {
     "data": {
      "text/plain": [
       "'Science'"
      ]
     },
     "execution_count": 32,
     "metadata": {},
     "output_type": "execute_result"
    }
   ],
   "source": [
    "course_name[5:12]"
   ]
  },
  {
   "cell_type": "code",
   "execution_count": 36,
   "id": "6d9d4a9e-42ce-41c4-b7a0-830d3fec38f7",
   "metadata": {},
   "outputs": [
    {
     "data": {
      "text/plain": [
       "'ecneicS'"
      ]
     },
     "execution_count": 36,
     "metadata": {},
     "output_type": "execute_result"
    }
   ],
   "source": [
    "course_name[11:4:-1]"
   ]
  },
  {
   "cell_type": "code",
   "execution_count": 39,
   "id": "6e712c8a-5a76-496b-b04f-0c125159afd8",
   "metadata": {},
   "outputs": [
    {
     "data": {
      "text/plain": [
       "'Data Science MastersCourse'"
      ]
     },
     "execution_count": 39,
     "metadata": {},
     "output_type": "execute_result"
    }
   ],
   "source": [
    "course_name + \"Course\""
   ]
  },
  {
   "cell_type": "code",
   "execution_count": 40,
   "id": "4a095b66-1e5f-45d6-92bf-3e2338a3d9e4",
   "metadata": {},
   "outputs": [
    {
     "data": {
      "text/plain": [
       "'Data Science MastersData Science MastersData Science Masters'"
      ]
     },
     "execution_count": 40,
     "metadata": {},
     "output_type": "execute_result"
    }
   ],
   "source": [
    "course_name*3"
   ]
  },
  {
   "cell_type": "code",
   "execution_count": 41,
   "id": "7ae50a16-b374-40de-9bb8-2c61e7a13e3c",
   "metadata": {},
   "outputs": [
    {
     "name": "stdout",
     "output_type": "stream",
     "text": [
      "MohammadAdil\n"
     ]
    }
   ],
   "source": [
    "print(\"Mohammad\" + \"Adil\")"
   ]
  },
  {
   "cell_type": "code",
   "execution_count": 42,
   "id": "91684e54-4ae3-4962-a535-571b9a57e4cd",
   "metadata": {},
   "outputs": [
    {
     "data": {
      "text/plain": [
       "20"
      ]
     },
     "execution_count": 42,
     "metadata": {},
     "output_type": "execute_result"
    }
   ],
   "source": [
    "len(course_name)"
   ]
  },
  {
   "cell_type": "code",
   "execution_count": 44,
   "id": "81cd4fca-9fa6-4dff-b2dd-287772315398",
   "metadata": {},
   "outputs": [
    {
     "data": {
      "text/plain": [
       "9"
      ]
     },
     "execution_count": 44,
     "metadata": {},
     "output_type": "execute_result"
    }
   ],
   "source": [
    "course_name.find(\"n\")"
   ]
  },
  {
   "cell_type": "code",
   "execution_count": 45,
   "id": "713d72b7-aadd-4313-b647-a4e8b1df4647",
   "metadata": {},
   "outputs": [
    {
     "data": {
      "text/plain": [
       "1"
      ]
     },
     "execution_count": 45,
     "metadata": {},
     "output_type": "execute_result"
    }
   ],
   "source": [
    "course_name.find(\"a\")"
   ]
  },
  {
   "cell_type": "code",
   "execution_count": 46,
   "id": "867d0f5e-384b-4788-8c0c-27b6d2b6d8ce",
   "metadata": {},
   "outputs": [
    {
     "data": {
      "text/plain": [
       "3"
      ]
     },
     "execution_count": 46,
     "metadata": {},
     "output_type": "execute_result"
    }
   ],
   "source": [
    "course_name.find(\"a\",2,10)"
   ]
  },
  {
   "cell_type": "code",
   "execution_count": 47,
   "id": "bcfa57d8-10ec-4f14-b42a-e39a78b08fcd",
   "metadata": {},
   "outputs": [
    {
     "data": {
      "text/plain": [
       "-1"
      ]
     },
     "execution_count": 47,
     "metadata": {},
     "output_type": "execute_result"
    }
   ],
   "source": [
    "course_name.find(\"z\")"
   ]
  },
  {
   "cell_type": "code",
   "execution_count": 48,
   "id": "afd813a0-7ab0-4f82-892a-e5d26d03b9fb",
   "metadata": {},
   "outputs": [],
   "source": [
    "# count()"
   ]
  },
  {
   "cell_type": "code",
   "execution_count": 49,
   "id": "d2191fc7-9da0-46e7-b858-11a2f75b7a4a",
   "metadata": {},
   "outputs": [
    {
     "data": {
      "text/plain": [
       "3"
      ]
     },
     "execution_count": 49,
     "metadata": {},
     "output_type": "execute_result"
    }
   ],
   "source": [
    "course_name.count(\"a\")"
   ]
  },
  {
   "cell_type": "code",
   "execution_count": 50,
   "id": "8c0eb0e4-31d3-4a0e-b422-6b693f6ac157",
   "metadata": {},
   "outputs": [
    {
     "data": {
      "text/plain": [
       "2"
      ]
     },
     "execution_count": 50,
     "metadata": {},
     "output_type": "execute_result"
    }
   ],
   "source": [
    "course_name.count(\"s\")"
   ]
  },
  {
   "cell_type": "code",
   "execution_count": 52,
   "id": "6c7954d3-0acd-40b9-9135-8829b79aca04",
   "metadata": {},
   "outputs": [
    {
     "data": {
      "text/plain": [
       "2"
      ]
     },
     "execution_count": 52,
     "metadata": {},
     "output_type": "execute_result"
    }
   ],
   "source": [
    "course_name.count(\" \")  # to count number of spaces"
   ]
  },
  {
   "cell_type": "code",
   "execution_count": 53,
   "id": "c7be88a3-e15f-4d13-ac01-fecc4fa60529",
   "metadata": {},
   "outputs": [
    {
     "data": {
      "text/plain": [
       "21"
      ]
     },
     "execution_count": 53,
     "metadata": {},
     "output_type": "execute_result"
    }
   ],
   "source": [
    "course_name.count(\"\")"
   ]
  },
  {
   "cell_type": "code",
   "execution_count": 54,
   "id": "da285960-cf87-47fc-852b-3464804a9bcf",
   "metadata": {},
   "outputs": [
    {
     "data": {
      "text/plain": [
       "1"
      ]
     },
     "execution_count": 54,
     "metadata": {},
     "output_type": "execute_result"
    }
   ],
   "source": [
    "course_name.count(\"a\",2,10)"
   ]
  },
  {
   "cell_type": "code",
   "execution_count": 55,
   "id": "e20cdf31-51ec-49f6-996c-8db91090d4da",
   "metadata": {},
   "outputs": [],
   "source": [
    "# string split function"
   ]
  },
  {
   "cell_type": "code",
   "execution_count": 57,
   "id": "ba396612-d307-4c2c-82af-0ddbf6e4b188",
   "metadata": {},
   "outputs": [
    {
     "data": {
      "text/plain": [
       "['Data', 'Science', 'Masters']"
      ]
     },
     "execution_count": 57,
     "metadata": {},
     "output_type": "execute_result"
    }
   ],
   "source": [
    "course_name.split(\" \")"
   ]
  },
  {
   "cell_type": "code",
   "execution_count": 58,
   "id": "fe9710ff-aac4-4332-8080-f6a817c7b8a4",
   "metadata": {},
   "outputs": [
    {
     "data": {
      "text/plain": [
       "['Data ', 'cience Masters']"
      ]
     },
     "execution_count": 58,
     "metadata": {},
     "output_type": "execute_result"
    }
   ],
   "source": [
    "course_name.split(\"S\")"
   ]
  },
  {
   "cell_type": "code",
   "execution_count": 62,
   "id": "d23d3584-8e28-4635-b73a-f2abd838e67e",
   "metadata": {},
   "outputs": [
    {
     "data": {
      "text/plain": [
       "'DATA SCIENCE MASTERS'"
      ]
     },
     "execution_count": 62,
     "metadata": {},
     "output_type": "execute_result"
    }
   ],
   "source": [
    "course_name.upper()"
   ]
  },
  {
   "cell_type": "code",
   "execution_count": 63,
   "id": "62d18d7a-2906-4a65-9b7d-6d7d5b6f5f59",
   "metadata": {},
   "outputs": [
    {
     "data": {
      "text/plain": [
       "'data science masters'"
      ]
     },
     "execution_count": 63,
     "metadata": {},
     "output_type": "execute_result"
    }
   ],
   "source": [
    "course_name.lower()"
   ]
  },
  {
   "cell_type": "code",
   "execution_count": 64,
   "id": "e4504877-426a-46c5-9665-ad71687a8f3c",
   "metadata": {},
   "outputs": [
    {
     "data": {
      "text/plain": [
       "'dATA sCIENCE mASTERS'"
      ]
     },
     "execution_count": 64,
     "metadata": {},
     "output_type": "execute_result"
    }
   ],
   "source": [
    "course_name.swapcase()"
   ]
  },
  {
   "cell_type": "code",
   "execution_count": 65,
   "id": "5e2b7878-48a1-4c7b-b757-9b1a5d2cb7fa",
   "metadata": {},
   "outputs": [
    {
     "data": {
      "text/plain": [
       "'Data Science Masters'"
      ]
     },
     "execution_count": 65,
     "metadata": {},
     "output_type": "execute_result"
    }
   ],
   "source": [
    "course_name.title()"
   ]
  },
  {
   "cell_type": "code",
   "execution_count": 66,
   "id": "bafc47d9-d20d-4436-a10a-c5eafd58ccc0",
   "metadata": {},
   "outputs": [],
   "source": [
    "name=\"mohd adil\""
   ]
  },
  {
   "cell_type": "code",
   "execution_count": 67,
   "id": "c6cb7b7a-8bd7-4b19-8626-65df4a120cae",
   "metadata": {},
   "outputs": [
    {
     "data": {
      "text/plain": [
       "'Mohd Adil'"
      ]
     },
     "execution_count": 67,
     "metadata": {},
     "output_type": "execute_result"
    }
   ],
   "source": [
    "name.title()"
   ]
  },
  {
   "cell_type": "code",
   "execution_count": null,
   "id": "804748b9-2711-4eac-992a-1da572e46da4",
   "metadata": {},
   "outputs": [],
   "source": []
  },
  {
   "cell_type": "code",
   "execution_count": null,
   "id": "e8f63954-588b-4424-9348-b4fe4990cfbb",
   "metadata": {},
   "outputs": [],
   "source": []
  },
  {
   "cell_type": "code",
   "execution_count": null,
   "id": "8b417b49-c515-484d-a314-1407b890127f",
   "metadata": {},
   "outputs": [],
   "source": []
  },
  {
   "cell_type": "code",
   "execution_count": null,
   "id": "99059036-2ae9-42a0-8aec-6c85b2feb6f1",
   "metadata": {},
   "outputs": [],
   "source": []
  },
  {
   "cell_type": "code",
   "execution_count": null,
   "id": "39a39941-defb-4eb7-9553-43b85d72aaf3",
   "metadata": {},
   "outputs": [],
   "source": []
  }
 ],
 "metadata": {
  "kernelspec": {
   "display_name": "Python 3 (ipykernel)",
   "language": "python",
   "name": "python3"
  },
  "language_info": {
   "codemirror_mode": {
    "name": "ipython",
    "version": 3
   },
   "file_extension": ".py",
   "mimetype": "text/x-python",
   "name": "python",
   "nbconvert_exporter": "python",
   "pygments_lexer": "ipython3",
   "version": "3.10.8"
  }
 },
 "nbformat": 4,
 "nbformat_minor": 5
}
